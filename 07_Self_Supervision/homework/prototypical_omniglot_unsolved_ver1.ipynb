{
 "cells": [
  {
   "cell_type": "markdown",
   "metadata": {
    "id": "view-in-github"
   },
   "source": [
    "<a href=\"https://github.com/ml-dafe/ml_mipt_dafe/tree/main/hw2/prototypical_omniglot_unsolved.ipynb\" target=\"_parent\"><img src=\"https://colab.research.google.com/assets/colab-badge.svg\" alt=\"Open In Colab\"/></a>"
   ]
  },
  {
   "cell_type": "markdown",
   "metadata": {
    "id": "GlyMLKngmf-t"
   },
   "source": [
    "# Prototypical Netwoks on the Omniglot dataset"
   ]
  },
  {
   "cell_type": "markdown",
   "metadata": {},
   "source": [
    "# Состав команды\n",
    "### Ячменьков Алексей:\n",
    "#### задание 1,  задание 4, задание 5\n",
    "#####\n",
    "### Баранов Владислав:\n",
    "#### Задание 2, задание 3\n",
    "#####\n",
    "### Аллабердин Богдан:\n",
    "#### Задание 6\n"
   ]
  },
  {
   "cell_type": "markdown",
   "metadata": {
    "id": "muQ8UzgAQq5G"
   },
   "source": [
    "Заданием является воспроизведение результатов статьи [Prototypical Networks for Few-shot Learning](https://arxiv.org/pdf/1703.05175v2.pdf)"
   ]
  },
  {
   "cell_type": "markdown",
   "metadata": {
    "id": "uh1W3Lszseoa"
   },
   "source": [
    "## Import libraries"
   ]
  },
  {
   "cell_type": "code",
   "execution_count": 12,
   "metadata": {
    "ExecuteTime": {
     "end_time": "2024-05-08T14:26:11.093244Z",
     "start_time": "2024-05-08T14:26:00.544950Z"
    }
   },
   "outputs": [],
   "source": [
    "import os\n",
    "from pathlib import Path\n",
    "\n",
    "import cv2\n",
    "import wandb\n",
    "import numpy as np\n",
    "import matplotlib.pyplot as plt\n",
    "from tqdm.notebook import tnrange\n",
    "\n",
    "import torch\n",
    "import torch.nn as nn\n",
    "import torchvision\n",
    "import torch.nn.functional as F\n",
    "import torch.optim as optim\n",
    "from torch.autograd import Variable\n",
    "from PIL import Image"
   ]
  },
  {
   "cell_type": "code",
   "execution_count": 13,
   "metadata": {
    "ExecuteTime": {
     "end_time": "2024-05-08T14:26:14.757842Z",
     "start_time": "2024-05-08T14:26:14.289066Z"
    },
    "colab": {
     "base_uri": "https://localhost:8080/"
    },
    "id": "X5zGtLpGIziY",
    "outputId": "91ab3987-6ffa-4808-fc63-999e2c0c5406",
    "scrolled": true
   },
   "outputs": [
    {
     "name": "stdout",
     "output_type": "stream",
     "text": [
      "True\n"
     ]
    }
   ],
   "source": [
    "# Check GPU support, please do activate GPU\n",
    "print(torch.cuda.is_available())"
   ]
  },
  {
   "cell_type": "markdown",
   "metadata": {
    "id": "Ebffp6XBskUN"
   },
   "source": [
    "## Import data"
   ]
  },
  {
   "cell_type": "markdown",
   "metadata": {
    "id": "5-R_Clr7tEQh"
   },
   "source": [
    "Omniglot dataset - [the official GitHub repository](https://github.com/brendenlake/omniglot)"
   ]
  },
  {
   "cell_type": "code",
   "execution_count": 18,
   "metadata": {
    "colab": {
     "base_uri": "https://localhost:8080/"
    },
    "id": "vJcErlaFQq5I",
    "outputId": "a29f1833-c965-4f04-f01a-f24cd2aac16d"
   },
   "outputs": [
    {
     "name": "stdout",
     "output_type": "stream",
     "text": [
      "Requirement already satisfied: wget in c:\\users\\admin\\anaconda3\\envs\\ldw\\lib\\site-packages (3.2)\n"
     ]
    }
   ],
   "source": [
    "!pip install wget"
   ]
  },
  {
   "cell_type": "code",
   "execution_count": null,
   "metadata": {
    "colab": {
     "base_uri": "https://localhost:8080/",
     "height": 554
    },
    "id": "7aV-Lqty3qTu",
    "outputId": "3fdd2af9-bf1e-4c0c-8d9a-27c93bb4ae0b",
    "scrolled": true
   },
   "outputs": [
    {
     "name": "stdout",
     "output_type": "stream",
     "text": [
      "\n",
      "Saved under images_evaluation.zip\n",
      "\n",
      "Saved under images_background.zip\n"
     ]
    }
   ],
   "source": [
    "!python -m wget https://github.com/brendenlake/omniglot/raw/master/python/images_evaluation.zip\n",
    "\n",
    "!python -m wget https://github.com/brendenlake/omniglot/raw/master/python/images_background.zip"
   ]
  },
  {
   "cell_type": "code",
   "execution_count": null,
   "metadata": {
    "id": "GnYYF9wL6ZuA"
   },
   "outputs": [],
   "source": [
    "!unzip -qq images_background.zip\n",
    "!unzip -qq images_evaluation.zip"
   ]
  },
  {
   "cell_type": "markdown",
   "metadata": {
    "id": "l33V3V0asntp"
   },
   "source": [
    "## Read data"
   ]
  },
  {
   "cell_type": "markdown",
   "metadata": {
    "id": "Ncg0THAiQkJp"
   },
   "source": []
  },
  {
   "cell_type": "markdown",
   "metadata": {
    "id": "bMLu94FStR5n"
   },
   "source": [
    "Набор данных Omniglot содержит 1623 различных рукописных символа из 50 различных алфавитов. Каждый из 1623 персонажей был нарисован онлайн с помощью Amazon Mechanical Turk 20 разными людьми (то есть 20 примеров на персонажа).\n",
    "Он разделен на фоновый набор из 30 алфавитов и оценочный набор из 20 алфавитов. Мы будем использовать фоновый набор для обучения и оценочный набор для тестирования."
   ]
  },
  {
   "cell_type": "code",
   "execution_count": 3,
   "metadata": {
    "ExecuteTime": {
     "end_time": "2024-05-08T14:56:17.967301Z",
     "start_time": "2024-05-08T14:48:46.395855Z"
    }
   },
   "outputs": [
    {
     "name": "stderr",
     "output_type": "stream",
     "text": [
      "\u001b[34m\u001b[1mwandb\u001b[0m: Currently logged in as: \u001b[33mtokomeir\u001b[0m (\u001b[33meduct\u001b[0m). Use \u001b[1m`wandb login --relogin`\u001b[0m to force relogin\n"
     ]
    },
    {
     "data": {
      "text/html": [
       "wandb version 0.17.0 is available!  To upgrade, please run:\n",
       " $ pip install wandb --upgrade"
      ],
      "text/plain": [
       "<IPython.core.display.HTML object>"
      ]
     },
     "metadata": {},
     "output_type": "display_data"
    },
    {
     "data": {
      "text/html": [
       "Tracking run with wandb version 0.13.2"
      ],
      "text/plain": [
       "<IPython.core.display.HTML object>"
      ]
     },
     "metadata": {},
     "output_type": "display_data"
    },
    {
     "data": {
      "text/html": [
       "Run data is saved locally in <code>C:\\Users\\Admin\\Desktop\\mipt\\ml_mipt_dafe\\07_Self_Supervision\\homework\\wandb\\run-20240510_112337-pa9hvggp</code>"
      ],
      "text/plain": [
       "<IPython.core.display.HTML object>"
      ]
     },
     "metadata": {},
     "output_type": "display_data"
    },
    {
     "data": {
      "text/html": [
       "Syncing run <strong><a href=\"https://wandb.ai/educt/homework/runs/pa9hvggp\" target=\"_blank\">baseline</a></strong> to <a href=\"https://wandb.ai/educt/homework\" target=\"_blank\">Weights & Biases</a> (<a href=\"https://wandb.me/run\" target=\"_blank\">docs</a>)<br/>"
      ],
      "text/plain": [
       "<IPython.core.display.HTML object>"
      ]
     },
     "metadata": {},
     "output_type": "display_data"
    },
    {
     "data": {
      "text/html": [
       "<button onClick=\"this.nextSibling.style.display='block';this.style.display='none';\">Display W&B run</button><iframe src=\"https://wandb.ai/educt/homework/runs/pa9hvggp?jupyter=true\" style=\"border:none;width:100%;height:420px;display:none;\"></iframe>"
      ],
      "text/plain": [
       "<wandb.sdk.wandb_run.Run at 0x2345d88d960>"
      ]
     },
     "execution_count": 3,
     "metadata": {},
     "output_type": "execute_result"
    }
   ],
   "source": [
    "wandb.init(project='homework', name='baseline')"
   ]
  },
  {
   "cell_type": "markdown",
   "metadata": {
    "id": "PZtxn74zQq5J"
   },
   "source": [
    "### Задание № 1 - реализуйте функцию чтения данных\n",
    "\n",
    "Вы можете увеличить размер обучающей выборки, если для каждого символа введете 4 класса, соответствующих повороту на 90 градусов. То есть из одного класса сделать x4."
   ]
  },
  {
   "cell_type": "code",
   "execution_count": 14,
   "metadata": {
    "ExecuteTime": {
     "end_time": "2024-05-08T14:56:28.045141Z",
     "start_time": "2024-05-08T14:56:27.756470Z"
    }
   },
   "outputs": [],
   "source": [
    "def read_alphabets(alphabet_directory_path: str):\n",
    "    \"\"\"\n",
    "    Reads all the characters from a given alphabet_directory\n",
    "    Args:\n",
    "      alphabet_directory_path (str): path to diretory with files\n",
    "    Returns:\n",
    "      datax (np.array): array of path name of images\n",
    "      datay (np.array): array of labels\n",
    "    \"\"\"\n",
    "    datax = []  # all file names of images\n",
    "    datay = []  # all class names \n",
    "\n",
    "    for character in os.listdir(alphabet_directory_path):\n",
    "        character_path = os.path.join(alphabet_directory_path, character)\n",
    "        if os.path.isdir(character_path) and 'rotated' not in character_path:\n",
    "            for image in os.listdir(character_path):\n",
    "                if image.endswith('.png'):\n",
    "                    image_path = os.path.join(character_path, image)\n",
    "                    \n",
    "                    datax.append(image_path)\n",
    "                    datay.append(character_path)\n",
    "                    \n",
    "                    original_image = Image.open(image_path)\n",
    "                    \n",
    "                    for degree in [90, 180, 270]:\n",
    "                        rotated_character_path = character_path + f'_rotated_{degree}'\n",
    "                        os.makedirs(rotated_character_path, exist_ok=True)\n",
    "                        \n",
    "                        rotated_image = original_image.rotate(degree)\n",
    "                        rotated_image_path = os.path.join(rotated_character_path, image)\n",
    "                        \n",
    "                        rotated_image.save(rotated_image_path)\n",
    "                        \n",
    "                        datax.append(rotated_image_path)\n",
    "                        datay.append(rotated_character_path)\n",
    "  \n",
    "    return np.array(datax), np.array(datay)"
   ]
  },
  {
   "cell_type": "code",
   "execution_count": 15,
   "metadata": {
    "ExecuteTime": {
     "end_time": "2024-05-08T14:56:31.693416Z",
     "start_time": "2024-05-08T14:56:31.305424Z"
    }
   },
   "outputs": [],
   "source": [
    "def read_images(base_directory):\n",
    "    \"\"\"\n",
    "    Reads all the alphabets from the base_directory\n",
    "    Uses multithreading to decrease the reading time drastically\n",
    "    \"\"\"\n",
    "    datax = None\n",
    "    datay = None\n",
    "\n",
    "    results = [read_alphabets(base_directory + '/' + directory + '/') for directory in os.listdir(base_directory)]\n",
    "\n",
    "    for result in results:\n",
    "        if datax is None:\n",
    "            datax = result[0]\n",
    "            datay = result[1]\n",
    "        else:\n",
    "            datax = np.concatenate([datax, result[0]])\n",
    "            datay = np.concatenate([datay, result[1]])\n",
    "    return datax, datay"
   ]
  },
  {
   "cell_type": "code",
   "execution_count": 16,
   "metadata": {
    "ExecuteTime": {
     "end_time": "2024-05-08T14:58:23.615616Z",
     "start_time": "2024-05-08T14:56:33.108800Z"
    },
    "colab": {
     "base_uri": "https://localhost:8080/",
     "height": 275
    },
    "id": "P7UN-n0l7aT0",
    "outputId": "57bb5830-9f4e-4949-896b-0997370b10aa"
   },
   "outputs": [],
   "source": [
    "trainx, trainy = read_images('./images_background')"
   ]
  },
  {
   "cell_type": "code",
   "execution_count": 17,
   "metadata": {
    "ExecuteTime": {
     "end_time": "2024-05-08T14:59:21.115485Z",
     "start_time": "2024-05-08T14:58:23.638254Z"
    }
   },
   "outputs": [],
   "source": [
    "testx, testy = read_images('./images_evaluation')"
   ]
  },
  {
   "cell_type": "code",
   "execution_count": 18,
   "metadata": {
    "ExecuteTime": {
     "end_time": "2024-05-08T14:59:21.448198Z",
     "start_time": "2024-05-08T14:59:21.122827Z"
    },
    "colab": {
     "base_uri": "https://localhost:8080/"
    },
    "id": "Li3bT2bPAdih",
    "outputId": "fb677a8c-dcf7-41e1-a82e-821957d381d4"
   },
   "outputs": [
    {
     "data": {
      "text/plain": [
       "((77120,), (77120,), (52720,), (52720,))"
      ]
     },
     "execution_count": 18,
     "metadata": {},
     "output_type": "execute_result"
    }
   ],
   "source": [
    "trainx.shape, trainy.shape, testx.shape, testy.shape"
   ]
  },
  {
   "cell_type": "markdown",
   "metadata": {
    "id": "J2VcplJ3xA-z"
   },
   "source": [
    "## Create samples"
   ]
  },
  {
   "cell_type": "code",
   "execution_count": 22,
   "metadata": {
    "ExecuteTime": {
     "end_time": "2024-05-08T15:56:12.045192Z",
     "start_time": "2024-05-08T15:56:11.789494Z"
    }
   },
   "outputs": [],
   "source": [
    "def extract_sample(n_way, n_support, n_query, datax, datay):\n",
    "    \"\"\"\n",
    "    Picks random sample of size n_support + n_querry, for n_way classes\n",
    "    Args:\n",
    "      n_way (int): number of classes in a classification task\n",
    "      n_support (int): number of labeled examples per class in the support set\n",
    "      n_query (int): number of labeled examples per class in the query set\n",
    "      datax (np.array): dataset of images\n",
    "      datay (np.array): dataset of labels\n",
    "    Returns:\n",
    "      (dict) of:\n",
    "        (torch.Tensor): sample of images. Size (n_way, n_support + n_query, (dim))\n",
    "        (int): n_way\n",
    "        (int): n_support\n",
    "        (int): n_query\n",
    "    \"\"\"\n",
    "    sample = []\n",
    "    K = np.random.choice(np.unique(datay), n_way, replace=False)\n",
    "    for cls in K:\n",
    "        datax_cls = datax[datay == cls]\n",
    "        perm = np.random.permutation(datax_cls)\n",
    "        sample_cls = perm[:(n_support + n_query)]\n",
    "        sample.append([cv2.resize(cv2.imread(fname), (28, 28))\n",
    "                                  for fname in sample_cls])\n",
    "\n",
    "    sample = np.array(sample)\n",
    "    sample = torch.from_numpy(sample).float()\n",
    "    sample = sample.permute(0, 1, 4, 2, 3)\n",
    "    return ({\n",
    "        'images': sample,\n",
    "        'targets': K,\n",
    "        'n_way': n_way,\n",
    "        'n_support': n_support,\n",
    "        'n_query': n_query\n",
    "    })"
   ]
  },
  {
   "cell_type": "code",
   "execution_count": 23,
   "metadata": {
    "ExecuteTime": {
     "end_time": "2024-05-08T15:56:23.865861Z",
     "start_time": "2024-05-08T15:56:23.539535Z"
    }
   },
   "outputs": [],
   "source": [
    "def display_sample(sample):\n",
    "    \"\"\"\n",
    "    Displays sample in a grid\n",
    "    Args:\n",
    "      sample (torch.Tensor): sample of images to display\n",
    "    \"\"\"\n",
    "    #need 4D tensor to create grid, currently 5D\n",
    "    sample_4D = sample.view(sample.shape[0] * sample.shape[1], *sample.shape[2:])\n",
    "    #make a grid\n",
    "    out = torchvision.utils.make_grid(sample_4D, nrow=sample.shape[1])\n",
    "\n",
    "    plt.figure(figsize=(16, 7))\n",
    "    plt.imshow(out.permute(1, 2, 0))"
   ]
  },
  {
   "cell_type": "markdown",
   "metadata": {
    "id": "-uGq_ya4yG2K"
   },
   "source": [
    "В качестве примера возьмем образец и отобразим его\n",
    "\n",
    "*   n_way = 8\n",
    "*   n_support = 5\n",
    "*   n_query = 5"
   ]
  },
  {
   "cell_type": "code",
   "execution_count": 24,
   "metadata": {
    "ExecuteTime": {
     "end_time": "2024-05-08T15:56:30.506035Z",
     "start_time": "2024-05-08T15:56:26.772770Z"
    },
    "colab": {
     "base_uri": "https://localhost:8080/",
     "height": 621
    },
    "id": "lxOHvWfO1ApZ",
    "outputId": "02dc4a7c-f0f1-4b81-e1e4-c5fdd29d7cec"
   },
   "outputs": [
    {
     "name": "stderr",
     "output_type": "stream",
     "text": [
      "Clipping input data to the valid range for imshow with RGB data ([0..1] for floats or [0..255] for integers).\n"
     ]
    },
    {
     "name": "stdout",
     "output_type": "stream",
     "text": [
      "['./images_background/Gujarati/character14_rotated_90'\n",
      " './images_background/Cyrillic/character14_rotated_90'\n",
      " './images_background/Korean/character33_rotated_180'\n",
      " './images_background/Japanese_(katakana)/character21_rotated_180'\n",
      " './images_background/Mkhedruli_(Georgian)/character27_rotated_180'\n",
      " './images_background/Latin/character07_rotated_270'\n",
      " './images_background/Blackfoot_(Canadian_Aboriginal_Syllabics)/character12_rotated_180'\n",
      " './images_background/Mkhedruli_(Georgian)/character17_rotated_180']\n"
     ]
    },
    {
     "data": {
      "image/png": "[encoded data removed]",
      "text/plain": [
       "<Figure size 1600x700 with 1 Axes>"
      ]
     },
     "metadata": {},
     "output_type": "display_data"
    }
   ],
   "source": [
    "sample_example = extract_sample(8, 5, 5, trainx, trainy)\n",
    "display_sample(sample_example['images'])\n",
    "print(sample_example['targets'])"
   ]
  },
  {
   "cell_type": "code",
   "execution_count": 25,
   "metadata": {
    "ExecuteTime": {
     "end_time": "2024-05-08T15:56:35.293832Z",
     "start_time": "2024-05-08T15:56:35.046803Z"
    },
    "colab": {
     "base_uri": "https://localhost:8080/"
    },
    "id": "RhDNMyG8AjOB",
    "outputId": "838e72d0-eaaf-4a49-b039-97c58892b583"
   },
   "outputs": [
    {
     "data": {
      "text/plain": [
       "torch.Size([8, 10, 3, 28, 28])"
      ]
     },
     "execution_count": 25,
     "metadata": {},
     "output_type": "execute_result"
    }
   ],
   "source": [
    "sample_example['images'].shape"
   ]
  },
  {
   "cell_type": "markdown",
   "metadata": {
    "id": "HbakTT_nFubI"
   },
   "source": [
    "## Build model"
   ]
  },
  {
   "cell_type": "markdown",
   "metadata": {
    "id": "VuvH9joezgja"
   },
   "source": [
    "Модель берет на вход (28x28x3) и возвращает вектор-столбец длиной 64. Каждый модуль модели состоит из свертки 3 × 3 с 64 фильтрами, слоя пакетной нормализации, нелинейности ReLU и слоя максимального объединения 2 × 2 (см. описание задания).\n",
    "\n",
    "Применительно к изображениям Omniglot 28 × 28 эта архитектура приводит к 64-мерному выходному пространству."
   ]
  },
  {
   "cell_type": "markdown",
   "metadata": {
    "id": "omjUTiOSQq5M"
   },
   "source": [
    "### Задание № 2 - реализуйте энкодер на основе сверточной нейроннй сети"
   ]
  },
  {
   "cell_type": "code",
   "execution_count": 26,
   "metadata": {
    "ExecuteTime": {
     "end_time": "2024-05-08T15:56:41.944099Z",
     "start_time": "2024-05-08T15:56:41.550875Z"
    }
   },
   "outputs": [],
   "source": [
    "def get_submodule(in_channels, out_channels, kernel_size = 3):\n",
    "    padding = kernel_size // 2\n",
    "    return nn.Sequential(\n",
    "        nn.Conv2d(in_channels, out_channels, kernel_size, padding=padding),\n",
    "        nn.BatchNorm2d(out_channels),\n",
    "        nn.ReLU(),\n",
    "        nn.MaxPool2d(2)\n",
    "    )\n",
    "\n",
    "def get_encoder(x_dim, hid_dim, z_dim):\n",
    "    return nn.Sequential(\n",
    "        get_submodule(x_dim, hid_dim),\n",
    "        get_submodule(hid_dim, hid_dim),\n",
    "        get_submodule(hid_dim, hid_dim),\n",
    "        get_submodule(hid_dim, z_dim)\n",
    "    )"
   ]
  },
  {
   "cell_type": "markdown",
   "metadata": {
    "id": "H9n-gyqBQq5M"
   },
   "source": [
    "### Задание № 3 - реализуйте Prototypical Networks (``` set_forward_loss ```)"
   ]
  },
  {
   "cell_type": "code",
   "execution_count": 27,
   "metadata": {
    "ExecuteTime": {
     "end_time": "2024-05-08T16:15:24.767958Z",
     "start_time": "2024-05-08T16:15:24.543685Z"
    }
   },
   "outputs": [],
   "source": [
    "class ProtoNet(nn.Module):\n",
    "    def __init__(self, encoder, device='cuda'):\n",
    "        \"\"\"\n",
    "        Args:\n",
    "            encoder : CNN encoding the images in sample\n",
    "            n_way (int): number of classes in a classification task\n",
    "            n_support (int): number of labeled examples per class in the support set\n",
    "            n_query (int): number of labeled examples per class in the query set\n",
    "        \"\"\"\n",
    "        super(ProtoNet, self).__init__()\n",
    "        self.device = device\n",
    "        self.encoder = encoder.to(self.device)\n",
    "\n",
    "    def set_forward_loss(self, sample):\n",
    "        \"\"\"\n",
    "        Computes loss, accuracy and output for classification task\n",
    "        Args:\n",
    "            sample (torch.Tensor): shape (n_way, n_support+n_query, (dim))\n",
    "        Returns:\n",
    "            torch.Tensor: shape(2), loss, accuracy and y_hat (predict)\n",
    "        \"\"\"\n",
    "        sample_images = sample['images']\n",
    "        n_way = sample['n_way']\n",
    "        n_support = sample['n_support']\n",
    "        n_query = sample['n_query']\n",
    "\n",
    "        sample_images = sample_images.to(self.device)\n",
    "        sample_images = sample_images.view(n_way * (n_support + n_query), *sample_images.shape[-3:])\n",
    "\n",
    "        # img2vec results\n",
    "        vectors = self.encoder(sample_images).view(n_way, (n_support + n_query), -1)\n",
    "\n",
    "        # центры тяжести класстеров классов\n",
    "        prototypes = vectors[:, :n_support].mean(1)\n",
    "\n",
    "        # ищем расстояния от каждого изображения из query до каждого центра тяжести\n",
    "        queries = vectors[:, n_support:].contiguous().view(-1, vectors.shape[-1])\n",
    "        query_dists = list()\n",
    "        for query in queries:\n",
    "            prototype_dists = torch.stack([torch.sqrt(torch.pow(query - prototype, 2).sum()) for prototype in prototypes])\n",
    "            query_dists.append(prototype_dists)\n",
    "        query_dists = torch.stack(query_dists)\n",
    "\n",
    "        probabilities = F.log_softmax(-query_dists, dim=1).view(n_way, n_query, -1)\n",
    "\n",
    "        _, y_hat = probabilities.max(2)\n",
    "\n",
    "        losses = list()\n",
    "        n_true_positive = 0\n",
    "        for way in range(n_way):\n",
    "            for query in range(n_query):\n",
    "                losses.append(-probabilities[way][query][way])\n",
    "                if y_hat[way][query] == way:\n",
    "                    n_true_positive += 1\n",
    "        loss_val = torch.stack(losses).mean()\n",
    "        acc = n_true_positive / (n_way * n_query)\n",
    "\n",
    "        return loss_val, {\n",
    "            'loss': loss_val.item(),\n",
    "            'acc': acc,\n",
    "            'y_hat': y_hat\n",
    "            }"
   ]
  },
  {
   "cell_type": "code",
   "execution_count": 28,
   "metadata": {
    "ExecuteTime": {
     "end_time": "2024-05-08T16:15:25.830118Z",
     "start_time": "2024-05-08T16:15:25.410733Z"
    }
   },
   "outputs": [],
   "source": [
    "def load_protonet_conv(**kwargs):\n",
    "    \"\"\"\n",
    "    Loads the prototypical network model\n",
    "    Arg:\n",
    "      x_dim (tuple): dimension of input image\n",
    "      hid_dim (int): dimension of hidden layers in conv blocks\n",
    "      z_dim (int): dimension of embedded image\n",
    "    Returns:\n",
    "      Model (Class ProtoNet)\n",
    "    \"\"\"\n",
    "    encoder = get_encoder(kwargs['x_dim'][0], kwargs['hid_dim'], kwargs['z_dim'])\n",
    "\n",
    "    return ProtoNet(encoder, kwargs['device'])"
   ]
  },
  {
   "cell_type": "markdown",
   "metadata": {
    "id": "0Fke38yY6pI9",
    "tags": []
   },
   "source": [
    "## Train"
   ]
  },
  {
   "cell_type": "markdown",
   "metadata": {
    "id": "9yf4MrZrQq5N"
   },
   "source": [
    "### Задание № 4 - добавьте логирование в процесс обучения (wandb/neptune/tensorboard)"
   ]
  },
  {
   "cell_type": "code",
   "execution_count": 16,
   "metadata": {
    "ExecuteTime": {
     "end_time": "2024-05-08T16:15:40.001508Z",
     "start_time": "2024-05-08T16:15:39.772157Z"
    }
   },
   "outputs": [],
   "source": [
    "def train(model, optimizer, train_x, train_y, n_way, n_support, n_query, max_epoch, epoch_size):\n",
    "    \"\"\"\n",
    "    Trains the protonet\n",
    "    Args:\n",
    "      model\n",
    "      optimizer\n",
    "      train_x (np.array): images of training set\n",
    "      train_y(np.array): labels of training set\n",
    "      n_way (int): number of classes in a classification task\n",
    "      n_support (int): number of labeled examples per class in the support set\n",
    "      n_query (int): number of labeled examples per class in the query set\n",
    "      max_epoch (int): max epochs to train on\n",
    "      epoch_size (int): episodes per epoch\n",
    "    \"\"\"\n",
    "    if wandb.run is not None:\n",
    "        wandb.watch(model)\n",
    "    #divide the learning rate by 2 at each epoch, as suggested in paper\n",
    "    scheduler = optim.lr_scheduler.StepLR(optimizer, 1, gamma=0.5, last_epoch=-1)\n",
    "    epoch = 0  # epochs done so far\n",
    "    stop = False  # status to know when to stop\n",
    "\n",
    "    train_losses = []\n",
    "    train_acc = []\n",
    "    while epoch < max_epoch and not stop:\n",
    "        running_loss = 0.0\n",
    "        running_acc = 0.0\n",
    "\n",
    "        for episode in tnrange(epoch_size, desc=\"Epoch {:d} train\".format(epoch + 1)):\n",
    "            sample = extract_sample(n_way, n_support, n_query, train_x, train_y)\n",
    "            optimizer.zero_grad()\n",
    "            loss, output = model.set_forward_loss(sample)\n",
    "            running_loss += output['loss']\n",
    "            running_acc += output['acc']\n",
    "            loss.backward()\n",
    "            optimizer.step()\n",
    "\n",
    "        epoch_loss = running_loss / epoch_size\n",
    "        epoch_acc = running_acc / epoch_size\n",
    "        \n",
    "        train_losses.append(epoch_loss)\n",
    "        train_acc.append(epoch_acc)\n",
    "        \n",
    "        if wandb.run is not None:\n",
    "            wandb.log({'Epoch': epoch + 1, 'Loss': round(epoch_loss, 4), 'Acc': round(epoch_acc, 4)})\n",
    "        print('Epoch {:d} -- Loss: {:.4f} Acc: {:.4f}'.format(epoch+1,epoch_loss, epoch_acc))\n",
    "        epoch += 1\n",
    "        scheduler.step()\n",
    "    torch.save(model.state_dict(), \"new_model.pt\")\n",
    "    return train_losses, train_acc"
   ]
  },
  {
   "cell_type": "code",
   "execution_count": 17,
   "metadata": {
    "ExecuteTime": {
     "end_time": "2024-05-08T16:15:47.178703Z",
     "start_time": "2024-05-08T16:15:47.045028Z"
    }
   },
   "outputs": [],
   "source": [
    "model = load_protonet_conv(\n",
    "    x_dim=(3, 28, 28),\n",
    "    hid_dim=64,\n",
    "    z_dim=64,\n",
    "    device='cuda'\n",
    ")\n",
    "\n",
    "optimizer = optim.Adam(model.parameters(), lr=0.001)\n",
    "\n",
    "n_way = 60\n",
    "n_support = 5\n",
    "n_query = 5\n",
    "\n",
    "train_x = trainx\n",
    "train_y = trainy\n",
    "\n",
    "max_epoch = 3\n",
    "epoch_size = 1000"
   ]
  },
  {
   "cell_type": "code",
   "execution_count": 18,
   "metadata": {},
   "outputs": [],
   "source": [
    "from for_task6.show_train_res import plot_losses"
   ]
  },
  {
   "cell_type": "code",
   "execution_count": 19,
   "metadata": {
    "ExecuteTime": {
     "end_time": "2024-05-08T16:17:39.586258Z",
     "start_time": "2024-05-08T16:15:50.249400Z"
    },
    "colab": {
     "base_uri": "https://localhost:8080/",
     "height": 49,
     "referenced_widgets": [
      "f387f1d9959f46658c6068c02a9bf4e5",
      "5f04f2c6f13c48d2aa918479bcc82047",
      "b66414f320e543958658d316b4bcd704",
      "9705587dd60844c186eaa467ad9667de",
      "ea13ced050824f6784292fe4a9aaf689",
      "24a35701eba84c088f88444e642f427c",
      "86d0bcf35852433cb801b5d0aa977aba",
      "2bb8eae213a14d08ae3df513e9d8ab55",
      "960c3783bfd8486ca50fdbcf2d5f680b",
      "6d64fcbf62174736b23bf4d93b170f94",
      "d08773a7fc6145b789d05f046c9901e4"
     ]
    },
    "id": "XPEeLbnYQq5N",
    "outputId": "a8bcff12-8cbc-4c60-c9fb-7a966183e807"
   },
   "outputs": [
    {
     "data": {
      "application/vnd.jupyter.widget-view+json": {
       "model_id": "0934643a818c46888f3254ae7037780f",
       "version_major": 2,
       "version_minor": 0
      },
      "text/plain": [
       "Epoch 1 train:   0%|          | 0/1000 [00:00<?, ?it/s]"
      ]
     },
     "metadata": {},
     "output_type": "display_data"
    },
    {
     "name": "stdout",
     "output_type": "stream",
     "text": [
      "Epoch 1 -- Loss: 0.1808 Acc: 0.9618\n"
     ]
    },
    {
     "data": {
      "application/vnd.jupyter.widget-view+json": {
       "model_id": "50f2b1366afc4d4cbb5f5cf0fe82883a",
       "version_major": 2,
       "version_minor": 0
      },
      "text/plain": [
       "Epoch 2 train:   0%|          | 0/1000 [00:00<?, ?it/s]"
      ]
     },
     "metadata": {},
     "output_type": "display_data"
    },
    {
     "name": "stdout",
     "output_type": "stream",
     "text": [
      "Epoch 2 -- Loss: 0.0600 Acc: 0.9838\n"
     ]
    },
    {
     "data": {
      "application/vnd.jupyter.widget-view+json": {
       "model_id": "7f85fa46e7c7419baa027204f6da20be",
       "version_major": 2,
       "version_minor": 0
      },
      "text/plain": [
       "Epoch 3 train:   0%|          | 0/1000 [00:00<?, ?it/s]"
      ]
     },
     "metadata": {},
     "output_type": "display_data"
    },
    {
     "name": "stdout",
     "output_type": "stream",
     "text": [
      "Epoch 3 -- Loss: 0.0468 Acc: 0.9866\n",
      "CPU times: total: 2h 57min 1s\n",
      "Wall time: 2h 11min 22s\n"
     ]
    }
   ],
   "source": [
    "%%time\n",
    "\n",
    "loss, acc = train(model, optimizer, train_x, train_y, n_way, n_support, n_query, max_epoch, epoch_size)"
   ]
  },
  {
   "cell_type": "markdown",
   "metadata": {},
   "source": [
    "## Графики обучения ProtoNet"
   ]
  },
  {
   "cell_type": "code",
   "execution_count": 20,
   "metadata": {},
   "outputs": [
    {
     "data": {
      "image/png": "[encoded data removed]",
      "text/plain": [
       "<Figure size 1280x480 with 2 Axes>"
      ]
     },
     "metadata": {},
     "output_type": "display_data"
    }
   ],
   "source": [
    "plot_losses(np.array([loss, acc]), np.array([[],[]]), 'loss', 'acc')"
   ]
  },
  {
   "cell_type": "markdown",
   "metadata": {
    "id": "pJu50gOb8WxU"
   },
   "source": [
    "## Test"
   ]
  },
  {
   "cell_type": "code",
   "execution_count": 15,
   "metadata": {
    "ExecuteTime": {
     "end_time": "2024-05-08T16:22:39.134845Z",
     "start_time": "2024-05-08T16:22:38.810916Z"
    }
   },
   "outputs": [],
   "source": [
    "def test(model, test_x, test_y, n_way, n_support, n_query, test_episode):\n",
    "    \"\"\"\n",
    "    Tests the protonet\n",
    "    Args:\n",
    "      model: trained model\n",
    "      test_x (np.array): images of testing set\n",
    "      test_y (np.array): labels of testing set\n",
    "      n_way (int): number of classes in a classification task\n",
    "      n_support (int): number of labeled examples per class in the support set\n",
    "      n_query (int): number of labeled examples per class in the query set\n",
    "      test_episode (int): number of episodes to test on\n",
    "    \"\"\"\n",
    "    if wandb.run is not None:\n",
    "        wandb.watch(model)\n",
    "    running_loss = 0.0\n",
    "    running_acc = 0.0\n",
    "    for episode in tnrange(test_episode):\n",
    "        sample = extract_sample(n_way, n_support, n_query, test_x, test_y)\n",
    "        loss, output = model.set_forward_loss(sample)\n",
    "        running_loss += output['loss']\n",
    "        running_acc += output['acc']\n",
    "\n",
    "    avg_loss = running_loss / test_episode\n",
    "    avg_acc = running_acc / test_episode\n",
    "    if wandb.run is not None:\n",
    "        wandb.log({'n_way': n_way, 'k_shot': n_support})\n",
    "        wandb.log({'Test loss': round(avg_loss, 4), 'Test acc': round(avg_acc, 4), 'n_way': n_way, 'k_shot': n_support})\n",
    "    return [avg_loss, avg_acc]"
   ]
  },
  {
   "cell_type": "code",
   "execution_count": 30,
   "metadata": {
    "ExecuteTime": {
     "end_time": "2024-05-08T16:22:40.410891Z",
     "start_time": "2024-05-08T16:22:40.101925Z"
    }
   },
   "outputs": [
    {
     "data": {
      "text/plain": [
       "<All keys matched successfully>"
      ]
     },
     "execution_count": 30,
     "metadata": {},
     "output_type": "execute_result"
    }
   ],
   "source": [
    "n_way = 5\n",
    "n_support = 5\n",
    "n_query = 5\n",
    "\n",
    "test_x = testx\n",
    "test_y = testy\n",
    "\n",
    "test_episode = 1000\n",
    "\n",
    "model = load_protonet_conv(\n",
    "    x_dim=(3, 28, 28),\n",
    "    hid_dim=64,\n",
    "    z_dim=64,\n",
    "    device='cuda'\n",
    ")\n",
    "model.load_state_dict(torch.load('./new_model.pt'))"
   ]
  },
  {
   "cell_type": "markdown",
   "metadata": {},
   "source": [
    "5-way 1-shot"
   ]
  },
  {
   "cell_type": "code",
   "execution_count": 19,
   "metadata": {},
   "outputs": [
    {
     "name": "stdout",
     "output_type": "stream",
     "text": [
      "test: 5-way 1-shot\n"
     ]
    },
    {
     "data": {
      "application/vnd.jupyter.widget-view+json": {
       "model_id": "6b3be5a72e1741e18168d445c5e269c5",
       "version_major": 2,
       "version_minor": 0
      },
      "text/plain": [
       "  0%|          | 0/1000 [00:00<?, ?it/s]"
      ]
     },
     "metadata": {},
     "output_type": "display_data"
    },
    {
     "name": "stdout",
     "output_type": "stream",
     "text": [
      "loss: 0.05637213498512756, acc: 0.9818400000000015\n"
     ]
    }
   ],
   "source": [
    "print('test: 5-way 1-shot')\n",
    "output = test(model, test_x, test_y, 5, 1, n_query, test_episode)\n",
    "print(f'loss: {output[0]}, acc: {output[1]}')"
   ]
  },
  {
   "cell_type": "markdown",
   "metadata": {},
   "source": [
    "5-way 5-shot"
   ]
  },
  {
   "cell_type": "code",
   "execution_count": 20,
   "metadata": {
    "ExecuteTime": {
     "end_time": "2024-05-08T16:25:54.530031Z",
     "start_time": "2024-05-08T16:25:32.699619Z"
    },
    "colab": {
     "base_uri": "https://localhost:8080/",
     "height": 66,
     "referenced_widgets": [
      "4b07e49b6ec6475a9a2c8dcfd709319c",
      "bd868f6778374fdbaff7a4ac8312ef04",
      "96547102c2fa4c2ca93bb54195647a52",
      "6452fc39687c400abcc24b046645fd8e",
      "b84b79cc58c441d5adfa0370b39c2929",
      "bb4ebf54c7a7455da7c2d620f60f7c72",
      "be964d392d154a54acdee5b1099939ab",
      "6e1e737e5bdb45ddbe5bb93cca22f723",
      "9defe938c2494f16b9c0855b0f0bd9bb",
      "98fdc1bef776450dbf03dbdc8dc7285a",
      "3a51d5b5eb7a430da6c30f3d34ae6c87"
     ]
    },
    "id": "Q7whKoj0Qq5R",
    "outputId": "f31abba5-00dd-4d0b-b4d1-5a840b54dcea"
   },
   "outputs": [
    {
     "name": "stdout",
     "output_type": "stream",
     "text": [
      "test: 5-way 5-shot\n"
     ]
    },
    {
     "data": {
      "application/vnd.jupyter.widget-view+json": {
       "model_id": "3fc400097a284c34b1bff5169302b9fc",
       "version_major": 2,
       "version_minor": 0
      },
      "text/plain": [
       "  0%|          | 0/1000 [00:00<?, ?it/s]"
      ]
     },
     "metadata": {},
     "output_type": "display_data"
    },
    {
     "name": "stdout",
     "output_type": "stream",
     "text": [
      "loss: 0.014282553361156716, acc: 0.9962400000000008\n"
     ]
    }
   ],
   "source": [
    "print('test: 5-way 5-shot')\n",
    "output = test(model, test_x, test_y, n_way, n_support, n_query, test_episode)\n",
    "print(f'loss: {output[0]}, acc: {output[1]}')"
   ]
  },
  {
   "cell_type": "markdown",
   "metadata": {},
   "source": [
    "20-way 1-shot"
   ]
  },
  {
   "cell_type": "code",
   "execution_count": 21,
   "metadata": {},
   "outputs": [
    {
     "name": "stdout",
     "output_type": "stream",
     "text": [
      "test: 20-way 1-shot\n"
     ]
    },
    {
     "data": {
      "application/vnd.jupyter.widget-view+json": {
       "model_id": "c28c1312275d4d0492a56510550645a5",
       "version_major": 2,
       "version_minor": 0
      },
      "text/plain": [
       "  0%|          | 0/1000 [00:00<?, ?it/s]"
      ]
     },
     "metadata": {},
     "output_type": "display_data"
    },
    {
     "name": "stdout",
     "output_type": "stream",
     "text": [
      "loss: 0.17894091346673668, acc: 0.9470500000000077\n"
     ]
    }
   ],
   "source": [
    "print('test: 20-way 1-shot')\n",
    "output = test(model, test_x, test_y, 20, 1, n_query, test_episode)\n",
    "print(f'loss: {output[0]}, acc: {output[1]}')"
   ]
  },
  {
   "cell_type": "markdown",
   "metadata": {},
   "source": [
    "20-way 5-shot"
   ]
  },
  {
   "cell_type": "code",
   "execution_count": 22,
   "metadata": {},
   "outputs": [
    {
     "name": "stdout",
     "output_type": "stream",
     "text": [
      "test: 20-way 5-shot\n"
     ]
    },
    {
     "data": {
      "application/vnd.jupyter.widget-view+json": {
       "model_id": "096191b9bdb44a249458eb3cae8bd75e",
       "version_major": 2,
       "version_minor": 0
      },
      "text/plain": [
       "  0%|          | 0/1000 [00:00<?, ?it/s]"
      ]
     },
     "metadata": {},
     "output_type": "display_data"
    },
    {
     "name": "stdout",
     "output_type": "stream",
     "text": [
      "loss: 0.05133642854448408, acc: 0.9865400000000077\n"
     ]
    }
   ],
   "source": [
    "print('test: 20-way 5-shot')\n",
    "output = test(model, test_x, test_y, 20, 5, n_query, test_episode)\n",
    "print(f'loss: {output[0]}, acc: {output[1]}')"
   ]
  },
  {
   "cell_type": "markdown",
   "metadata": {},
   "source": [
    "### Победить бейзлайны не получилось. Если пообучать модель на первоначальных параметрах, то скорее всего побить бейзлайн получится(требуется более 7 часов обучения)"
   ]
  },
  {
   "cell_type": "code",
   "execution_count": 27,
   "metadata": {
    "collapsed": true
   },
   "outputs": [
    {
     "data": {
      "text/html": [
       "Waiting for W&B process to finish... <strong style=\"color:green\">(success).</strong>"
      ],
      "text/plain": [
       "<IPython.core.display.HTML object>"
      ]
     },
     "metadata": {},
     "output_type": "display_data"
    },
    {
     "data": {
      "application/vnd.jupyter.widget-view+json": {
       "model_id": "",
       "version_major": 2,
       "version_minor": 0
      },
      "text/plain": [
       "VBox(children=(Label(value='0.001 MB of 0.001 MB uploaded (0.000 MB deduped)\\r'), FloatProgress(value=1.0, max…"
      ]
     },
     "metadata": {},
     "output_type": "display_data"
    },
    {
     "data": {
      "text/html": [
       "<style>\n",
       "    table.wandb td:nth-child(1) { padding: 0 10px; text-align: left ; width: auto;} td:nth-child(2) {text-align: left ; width: 100%}\n",
       "    .wandb-row { display: flex; flex-direction: row; flex-wrap: wrap; justify-content: flex-start; width: 100% }\n",
       "    .wandb-col { display: flex; flex-direction: column; flex-basis: 100%; flex: 1; padding: 10px; }\n",
       "    </style>\n",
       "<div class=\"wandb-row\"><div class=\"wandb-col\"><h3>Run history:</h3><br/><table class=\"wandb\"><tr><td>Acc</td><td>▁█</td></tr><tr><td>Epoch</td><td>▁█</td></tr><tr><td>Loss</td><td>█▁</td></tr><tr><td>Test acc</td><td>█▆▁▇</td></tr><tr><td>Test loss</td><td>▁▃█▃</td></tr><tr><td>k_shot</td><td>██▁▁▁▁██</td></tr><tr><td>n_way</td><td>▁▁▁▁████</td></tr></table><br/></div><div class=\"wandb-col\"><h3>Run summary:</h3><br/><table class=\"wandb\"><tr><td>Acc</td><td>0.9869</td></tr><tr><td>Epoch</td><td>2</td></tr><tr><td>Loss</td><td>0.0508</td></tr><tr><td>Test acc</td><td>0.9839</td></tr><tr><td>Test loss</td><td>0.0602</td></tr><tr><td>k_shot</td><td>5</td></tr><tr><td>n_way</td><td>20</td></tr></table><br/></div></div>"
      ],
      "text/plain": [
       "<IPython.core.display.HTML object>"
      ]
     },
     "metadata": {},
     "output_type": "display_data"
    },
    {
     "data": {
      "text/html": [
       "Synced <strong style=\"color:#cdcd00\">baseline</strong>: <a href=\"https://wandb.ai/educt/homework/runs/10boe9y8\" target=\"_blank\">https://wandb.ai/educt/homework/runs/10boe9y8</a><br/>Synced 5 W&B file(s), 0 media file(s), 0 artifact file(s) and 0 other file(s)"
      ],
      "text/plain": [
       "<IPython.core.display.HTML object>"
      ]
     },
     "metadata": {},
     "output_type": "display_data"
    },
    {
     "data": {
      "text/html": [
       "Find logs at: <code>.\\wandb\\run-20240509_160956-10boe9y8\\logs</code>"
      ],
      "text/plain": [
       "<IPython.core.display.HTML object>"
      ]
     },
     "metadata": {},
     "output_type": "display_data"
    }
   ],
   "source": [
    "wandb.finish()"
   ]
  },
  {
   "cell_type": "markdown",
   "metadata": {
    "id": "nOH0sg_7EKUW"
   },
   "source": [
    "## Test on specific example"
   ]
  },
  {
   "cell_type": "code",
   "execution_count": 32,
   "metadata": {
    "scrolled": false
   },
   "outputs": [
    {
     "name": "stderr",
     "output_type": "stream",
     "text": [
      "Clipping input data to the valid range for imshow with RGB data ([0..1] for floats or [0..255] for integers).\n"
     ]
    },
    {
     "name": "stdout",
     "output_type": "stream",
     "text": [
      "['./images_evaluation/Tibetan/character21_rotated_90'\n",
      " './images_evaluation/Syriac_(Serto)/character06_rotated_270'\n",
      " './images_evaluation/Glagolitic/character18_rotated_90'\n",
      " './images_evaluation/Glagolitic/character02_rotated_90'\n",
      " './images_evaluation/Glagolitic/character22'\n",
      " './images_evaluation/Glagolitic/character03'\n",
      " './images_evaluation/Manipuri/character39_rotated_90'\n",
      " './images_evaluation/Glagolitic/character34_rotated_180'\n",
      " './images_evaluation/Syriac_(Serto)/character05_rotated_270'\n",
      " './images_evaluation/Sylheti/character18']\n"
     ]
    },
    {
     "data": {
      "image/png": "[encoded data removed]",
      "text/plain": [
       "<Figure size 1600x700 with 1 Axes>"
      ]
     },
     "metadata": {},
     "output_type": "display_data"
    }
   ],
   "source": [
    "test_sample = extract_sample(10, 5, 1, test_x, test_y)\n",
    "display_sample(test_sample['images'])\n",
    "print(test_sample['targets'])"
   ]
  },
  {
   "cell_type": "code",
   "execution_count": 65,
   "metadata": {},
   "outputs": [],
   "source": [
    "def predict(model, sample):\n",
    "    with torch.inference_mode():\n",
    "        output = model.set_forward_loss(sample)[1]['y_hat'].to('cpu').detach().numpy()\n",
    "        preds = sample['targets'][output]\n",
    "        print('predict : target')\n",
    "        for pred, target in zip(preds, sample['targets']):\n",
    "            print(f'{pred[0]} : {target}')"
   ]
  },
  {
   "cell_type": "code",
   "execution_count": 66,
   "metadata": {},
   "outputs": [
    {
     "name": "stdout",
     "output_type": "stream",
     "text": [
      "predict : target\n",
      "./images_evaluation/Tibetan/character21_rotated_90 : ./images_evaluation/Tibetan/character21_rotated_90\n",
      "./images_evaluation/Syriac_(Serto)/character06_rotated_270 : ./images_evaluation/Syriac_(Serto)/character06_rotated_270\n",
      "./images_evaluation/Glagolitic/character18_rotated_90 : ./images_evaluation/Glagolitic/character18_rotated_90\n",
      "./images_evaluation/Glagolitic/character02_rotated_90 : ./images_evaluation/Glagolitic/character02_rotated_90\n",
      "./images_evaluation/Glagolitic/character22 : ./images_evaluation/Glagolitic/character22\n",
      "./images_evaluation/Glagolitic/character03 : ./images_evaluation/Glagolitic/character03\n",
      "./images_evaluation/Manipuri/character39_rotated_90 : ./images_evaluation/Manipuri/character39_rotated_90\n",
      "./images_evaluation/Glagolitic/character34_rotated_180 : ./images_evaluation/Glagolitic/character34_rotated_180\n",
      "./images_evaluation/Syriac_(Serto)/character05_rotated_270 : ./images_evaluation/Syriac_(Serto)/character05_rotated_270\n",
      "./images_evaluation/Sylheti/character18 : ./images_evaluation/Sylheti/character18\n"
     ]
    }
   ],
   "source": [
    "predict(model, test_sample)"
   ]
  },
  {
   "cell_type": "markdown",
   "metadata": {
    "id": "E74P_171Qq5R"
   },
   "source": [
    "### Задание № 5 - добавьте функцию для визуализации предсказания с тестирования\n",
    "\n"
   ]
  },
  {
   "cell_type": "code",
   "execution_count": 23,
   "metadata": {
    "ExecuteTime": {
     "end_time": "2024-05-08T16:18:39.150468Z",
     "start_time": "2024-05-08T16:18:37.309837Z"
    }
   },
   "outputs": [
    {
     "name": "stderr",
     "output_type": "stream",
     "text": [
      "Clipping input data to the valid range for imshow with RGB data ([0..1] for floats or [0..255] for integers).\n"
     ]
    },
    {
     "data": {
      "image/png": "[encoded data removed]",
      "text/plain": [
       "<Figure size 1600x700 with 1 Axes>"
      ]
     },
     "metadata": {},
     "output_type": "display_data"
    }
   ],
   "source": [
    "my_sample = extract_sample(n_way, n_support, n_query, test_x, test_y)\n",
    "display_sample(my_sample['images'])"
   ]
  },
  {
   "cell_type": "code",
   "execution_count": 30,
   "metadata": {
    "ExecuteTime": {
     "end_time": "2024-05-08T16:18:44.017803Z",
     "start_time": "2024-05-08T16:18:43.669311Z"
    }
   },
   "outputs": [],
   "source": [
    "from sklearn.manifold import TSNE\n",
    "\n",
    "\n",
    "def show_predictions(sample, encoder):\n",
    "    sample_images = sample['images']\n",
    "    n_way = sample['n_way']\n",
    "    n_support = sample['n_support']\n",
    "    n_query = sample['n_query']\n",
    "\n",
    "    sample_images = sample_images.to(next(encoder.parameters()).device)\n",
    "    sample_images = sample_images.view(n_way * (n_support + n_query), *sample_images.shape[-3:])\n",
    "\n",
    "    # img2vec results\n",
    "    vectors = encoder(sample_images).view(n_way, (n_support + n_query), -1)\n",
    "    vectors = vectors.to('cpu')\n",
    "    # центры тяжести класстеров классов\n",
    "    prototypes = vectors[:, :n_support].mean(1)\n",
    "    prototypes = prototypes.cpu().detach().numpy()\n",
    "    \n",
    "    queries = vectors[:, n_support:].cpu().detach().numpy()\n",
    "    \n",
    "    prototypes = np.expand_dims(prototypes, axis=1)\n",
    "    \n",
    "    feats = np.concatenate([prototypes, queries], axis=1)\n",
    "    feats = feats.reshape(-1, vectors.shape[-1])\n",
    "\n",
    "    print('Train TSNE ... ')\n",
    "    tsne = TSNE(n_components=2, perplexity=5, n_jobs=4)\n",
    "    x_feats = tsne.fit_transform(feats)\n",
    "    \n",
    "    print('Plot labels ...')\n",
    "\n",
    "    fig = plt.figure(figsize=(10, 8))\n",
    "\n",
    "    colors = []\n",
    "\n",
    "    for i in range(n_way):\n",
    "        color = plt.cm.tab10(i / float(n_way))\n",
    "        plt.scatter(x_feats[(n_query + 1) * i, 0], x_feats[(n_query + 1) * i, 1], marker='*', color=color)\n",
    "        colors.append(color)\n",
    "        \n",
    "    for i in range(n_way):\n",
    "        plt.scatter(x_feats[(n_query + 1) * i + 1:(n_query + 1) * (i + 1), 0], x_feats[(n_query + 1) * i + 1: (n_query + 1) * (i + 1), 1], color=colors[i])\n",
    "\n",
    "        \n",
    "    plt.legend([str(i) for i in range(n_way)])\n",
    "    plt.grid(True)\n",
    "    plt.tight_layout()\n",
    "    plt.close()\n",
    "    return fig"
   ]
  },
  {
   "cell_type": "code",
   "execution_count": 31,
   "metadata": {
    "ExecuteTime": {
     "end_time": "2024-05-08T16:18:48.380346Z",
     "start_time": "2024-05-08T16:18:45.131511Z"
    }
   },
   "outputs": [
    {
     "name": "stdout",
     "output_type": "stream",
     "text": [
      "Train TSNE ... \n",
      "Plot labels ...\n"
     ]
    },
    {
     "data": {
      "image/png": "[encoded data removed]",
      "text/plain": [
       "<Figure size 1000x800 with 1 Axes>"
      ]
     },
     "execution_count": 31,
     "metadata": {},
     "output_type": "execute_result"
    }
   ],
   "source": [
    "show_predictions(my_sample, model.encoder)"
   ]
  },
  {
   "cell_type": "markdown",
   "metadata": {
    "id": "0UQdmU2FQq5S"
   },
   "source": [
    "# Задание 6: Downstream task\n",
    "\n",
    "## Задание 6.1\n",
    "Ваша задача обучить заданную вами модель CNN методом SimCLR для набора данных CIFAR10, а затем использовать обученный энкодер для решения задачи классификации.\n",
    "\n",
    "**Примечание:**\n",
    "- В качестве базового энкодера можете использовать модель из семинара выше (```resnet18```) или определить свою сеть. **Рекомендуется** использовать уже предобученные сети из [torch zoo](https://pytorch.org/vision/stable/models.html).\n",
    "- В качестве обучающего множества для задачи классификации воспользуйетсь ```X_test```, ```y_test```, которые были определены в самом начале ноутбука. Создайте обучающую и валидационную выборку.\n",
    "- В новой CNN для задачи классификации требуется обучить только полносвязные слои после энкодера. Для этого вам потребуется \"заморозить\" веса энкодера и не учить их. Сделать это можно с помощью команды:\n",
    "```python\n",
    "for p in encoder.parameters():\n",
    "    p.requires_grad = False  \n",
    "```\n",
    "- Процесс обучения модели можно взять из предыдущего семинара\n",
    "\n",
    "## Задание 6.2\n",
    "\n",
    "Сравните полученный результат обучения c и без использования метода SimCLR."
   ]
  },
  {
   "cell_type": "markdown",
   "metadata": {
    "id": "gUS50ZBNQq5S"
   },
   "source": []
  },
  {
   "cell_type": "code",
   "execution_count": 1,
   "metadata": {
    "scrolled": true
   },
   "outputs": [],
   "source": [
    "import numpy as np\n",
    "import matplotlib.pyplot as plt\n",
    "\n",
    "from sklearn.model_selection import train_test_split\n",
    "import torch\n",
    "import torch.nn as nn\n",
    "from torch.utils.data import Dataset\n",
    "import albumentations as A\n",
    "import yaml\n",
    "import random\n",
    "from albumentations.pytorch import ToTensorV2\n",
    "from for_task6.cifar import load_cifar10\n",
    "from PIL import Image\n",
    "\n",
    "from for_task6.SimCLR_train_class import SimCLRTrainProcess\n",
    "from for_task6.show_train_res import plot_losses"
   ]
  },
  {
   "cell_type": "code",
   "execution_count": 2,
   "metadata": {},
   "outputs": [],
   "source": [
    "def set_seed(seed):\n",
    "    np.random.seed(seed)\n",
    "    random.seed(seed)\n",
    "    torch.manual_seed(seed)\n",
    "    torch.cuda.manual_seed(seed)"
   ]
  },
  {
   "cell_type": "code",
   "execution_count": 3,
   "metadata": {},
   "outputs": [],
   "source": [
    "X_train, y_train, X_val, y_val, X_test, y_test = load_cifar10(\"cifar_data\", channels_last=True)\n",
    "X_test_train, X_test_val, y_test_train, y_test_val = train_test_split(X_test, y_test, test_size=0.3)\n",
    "\n",
    "class_names = np.array(['airplane', 'automobile', 'bird', 'cat', 'deer',\n",
    "                        'dog', 'frog', 'horse', 'ship', 'truck'])\n"
   ]
  },
  {
   "cell_type": "code",
   "execution_count": 4,
   "metadata": {},
   "outputs": [],
   "source": [
    "MEAN = tuple(np.mean(X_train, axis=(0, 1, 2), keepdims=True, dtype=float).squeeze())\n",
    "STD = tuple(np.std(X_train, axis=(0, 1, 2), keepdims=True, dtype=float).squeeze())\n",
    "\n",
    "train_transform = A.Compose([\n",
    "    A.OneOf([\n",
    "        A.ColorJitter(),\n",
    "        A.ToGray(),\n",
    "#         A.GaussNoise(),\n",
    "    ]),\n",
    "#     A.OneOf([\n",
    "#         A.Cutout(num_holes=1, max_h_size=10, max_w_size=10),\n",
    "#         A.RandomResizedCrop(32, 32),\n",
    "#         A.GaussianBlur(),\n",
    "#     ]),\n",
    "    A.HorizontalFlip(),\n",
    "#     A.RandomRotate90(),\n",
    "    A.Normalize(mean=MEAN, std=STD),\n",
    "    ToTensorV2()\n",
    "])\n",
    "\n",
    "valid_transform = A.Compose([\n",
    "    A.Normalize(mean=MEAN, std=STD),\n",
    "    ToTensorV2()\n",
    "])"
   ]
  },
  {
   "cell_type": "markdown",
   "metadata": {},
   "source": [
    "## Обучаем предобученный энкодер на CIFAR10"
   ]
  },
  {
   "cell_type": "code",
   "execution_count": 5,
   "metadata": {
    "scrolled": false
   },
   "outputs": [
    {
     "name": "stdout",
     "output_type": "stream",
     "text": [
      "Train size: 40000 Valid size: 10000\n"
     ]
    },
    {
     "name": "stderr",
     "output_type": "stream",
     "text": [
      "C:\\Users\\Admin\\anaconda3\\envs\\ldw\\lib\\site-packages\\torchvision\\models\\_utils.py:208: UserWarning: The parameter 'pretrained' is deprecated since 0.13 and will be removed in 0.15, please use 'weights' instead.\n",
      "  warnings.warn(\n",
      "C:\\Users\\Admin\\anaconda3\\envs\\ldw\\lib\\site-packages\\torchvision\\models\\_utils.py:223: UserWarning: Arguments other than a weight enum or `None` for 'weights' are deprecated since 0.13 and will be removed in 0.15. The current behavior is equivalent to passing `weights=ResNet50_Weights.IMAGENET1K_V1`. You can also use `weights=ResNet50_Weights.DEFAULT` to get the most up-to-date weights.\n",
      "  warnings.warn(msg)\n"
     ]
    }
   ],
   "source": [
    "with open('./for_task6/hyp_params.yaml', 'r') as f:\n",
    "    hyps = yaml.load(f, Loader=yaml.SafeLoader)\n",
    "\n",
    "set_seed(hyps['seed'])\n",
    "\n",
    "trainer = SimCLRTrainProcess(hyps)\n",
    "trainer.device = 'cuda'\n",
    "trainer.init_params(X_train, y_train, X_val, y_val, train_transform, valid_transform)"
   ]
  },
  {
   "cell_type": "code",
   "execution_count": 6,
   "metadata": {
    "scrolled": true
   },
   "outputs": [
    {
     "name": "stderr",
     "output_type": "stream",
     "text": [
      "Train 0/49, Loss: 3.718: 100%|███████████████████████████████████████████████████████| 312/312 [01:06<00:00,  4.72it/s]\n",
      "Valid 0/49, Loss: 3.647: 100%|█████████████████████████████████████████████████████████| 78/78 [00:04<00:00, 17.29it/s]\n",
      "Train 1/49, Loss: 3.631: 100%|███████████████████████████████████████████████████████| 312/312 [01:03<00:00,  4.88it/s]\n",
      "Valid 1/49, Loss: 3.620: 100%|█████████████████████████████████████████████████████████| 78/78 [00:04<00:00, 17.58it/s]\n",
      "Train 2/49, Loss: 3.623: 100%|███████████████████████████████████████████████████████| 312/312 [01:04<00:00,  4.86it/s]\n",
      "Valid 2/49, Loss: 3.612: 100%|█████████████████████████████████████████████████████████| 78/78 [00:04<00:00, 17.14it/s]\n",
      "Train 3/49, Loss: 3.615: 100%|███████████████████████████████████████████████████████| 312/312 [01:04<00:00,  4.84it/s]\n",
      "Valid 3/49, Loss: 3.617: 100%|█████████████████████████████████████████████████████████| 78/78 [00:04<00:00, 17.50it/s]\n",
      "Train 4/49, Loss: 3.612: 100%|███████████████████████████████████████████████████████| 312/312 [01:04<00:00,  4.85it/s]\n",
      "Valid 4/49, Loss: 3.618: 100%|█████████████████████████████████████████████████████████| 78/78 [00:04<00:00, 17.23it/s]\n",
      "Train 5/49, Loss: 3.609: 100%|███████████████████████████████████████████████████████| 312/312 [01:04<00:00,  4.85it/s]\n",
      "Valid 5/49, Loss: 3.609: 100%|█████████████████████████████████████████████████████████| 78/78 [00:04<00:00, 17.29it/s]\n",
      "Train 6/49, Loss: 3.607: 100%|███████████████████████████████████████████████████████| 312/312 [01:04<00:00,  4.85it/s]\n",
      "Valid 6/49, Loss: 3.613: 100%|█████████████████████████████████████████████████████████| 78/78 [00:04<00:00, 17.30it/s]\n",
      "Train 7/49, Loss: 3.605: 100%|███████████████████████████████████████████████████████| 312/312 [01:04<00:00,  4.84it/s]\n",
      "Valid 7/49, Loss: 3.607: 100%|█████████████████████████████████████████████████████████| 78/78 [00:04<00:00, 17.15it/s]\n",
      "Train 8/49, Loss: 3.603: 100%|███████████████████████████████████████████████████████| 312/312 [01:04<00:00,  4.84it/s]\n",
      "Valid 8/49, Loss: 3.606: 100%|█████████████████████████████████████████████████████████| 78/78 [00:04<00:00, 17.26it/s]\n",
      "Train 9/49, Loss: 3.601: 100%|███████████████████████████████████████████████████████| 312/312 [01:04<00:00,  4.82it/s]\n",
      "Valid 9/49, Loss: 3.611: 100%|█████████████████████████████████████████████████████████| 78/78 [00:04<00:00, 17.13it/s]\n",
      "Train 10/49, Loss: 3.602: 100%|██████████████████████████████████████████████████████| 312/312 [01:04<00:00,  4.84it/s]\n",
      "Valid 10/49, Loss: 3.607: 100%|████████████████████████████████████████████████████████| 78/78 [00:04<00:00, 17.11it/s]\n",
      "Train 11/49, Loss: 3.599: 100%|██████████████████████████████████████████████████████| 312/312 [01:04<00:00,  4.84it/s]\n",
      "Valid 11/49, Loss: 3.605: 100%|████████████████████████████████████████████████████████| 78/78 [00:04<00:00, 17.34it/s]\n",
      "Train 12/49, Loss: 3.597: 100%|██████████████████████████████████████████████████████| 312/312 [01:04<00:00,  4.82it/s]\n",
      "Valid 12/49, Loss: 3.600: 100%|████████████████████████████████████████████████████████| 78/78 [00:04<00:00, 17.08it/s]\n",
      "Train 13/49, Loss: 3.596: 100%|██████████████████████████████████████████████████████| 312/312 [01:04<00:00,  4.83it/s]\n",
      "Valid 13/49, Loss: 3.606: 100%|████████████████████████████████████████████████████████| 78/78 [00:04<00:00, 17.20it/s]\n",
      "Train 14/49, Loss: 3.596: 100%|██████████████████████████████████████████████████████| 312/312 [01:04<00:00,  4.83it/s]\n",
      "Valid 14/49, Loss: 3.603: 100%|████████████████████████████████████████████████████████| 78/78 [00:04<00:00, 17.11it/s]\n",
      "Train 15/49, Loss: 3.596: 100%|██████████████████████████████████████████████████████| 312/312 [01:04<00:00,  4.81it/s]\n",
      "Valid 15/49, Loss: 3.598: 100%|████████████████████████████████████████████████████████| 78/78 [00:04<00:00, 17.02it/s]\n",
      "Train 16/49, Loss: 3.594: 100%|██████████████████████████████████████████████████████| 312/312 [01:04<00:00,  4.81it/s]\n",
      "Valid 16/49, Loss: 3.601: 100%|████████████████████████████████████████████████████████| 78/78 [00:04<00:00, 17.23it/s]\n",
      "Train 17/49, Loss: 3.593: 100%|██████████████████████████████████████████████████████| 312/312 [01:04<00:00,  4.82it/s]\n",
      "Valid 17/49, Loss: 3.602: 100%|████████████████████████████████████████████████████████| 78/78 [00:04<00:00, 17.23it/s]\n",
      "Train 18/49, Loss: 3.593: 100%|██████████████████████████████████████████████████████| 312/312 [01:05<00:00,  4.79it/s]\n",
      "Valid 18/49, Loss: 3.597: 100%|████████████████████████████████████████████████████████| 78/78 [00:04<00:00, 17.04it/s]\n",
      "Train 19/49, Loss: 3.593: 100%|██████████████████████████████████████████████████████| 312/312 [01:04<00:00,  4.80it/s]\n",
      "Valid 19/49, Loss: 3.595: 100%|████████████████████████████████████████████████████████| 78/78 [00:04<00:00, 16.99it/s]\n",
      "Train 20/49, Loss: 3.592: 100%|██████████████████████████████████████████████████████| 312/312 [01:04<00:00,  4.81it/s]\n",
      "Valid 20/49, Loss: 3.601: 100%|████████████████████████████████████████████████████████| 78/78 [00:04<00:00, 17.13it/s]\n",
      "Train 21/49, Loss: 3.592: 100%|██████████████████████████████████████████████████████| 312/312 [01:04<00:00,  4.81it/s]\n",
      "Valid 21/49, Loss: 3.599: 100%|████████████████████████████████████████████████████████| 78/78 [00:04<00:00, 17.19it/s]\n",
      "Train 22/49, Loss: 3.591: 100%|██████████████████████████████████████████████████████| 312/312 [01:05<00:00,  4.78it/s]\n",
      "Valid 22/49, Loss: 3.600: 100%|████████████████████████████████████████████████████████| 78/78 [00:04<00:00, 16.89it/s]\n",
      "Train 23/49, Loss: 3.590: 100%|██████████████████████████████████████████████████████| 312/312 [01:04<00:00,  4.82it/s]\n",
      "Valid 23/49, Loss: 3.596: 100%|████████████████████████████████████████████████████████| 78/78 [00:04<00:00, 17.00it/s]\n",
      "Train 24/49, Loss: 3.590: 100%|██████████████████████████████████████████████████████| 312/312 [01:04<00:00,  4.81it/s]\n",
      "Valid 24/49, Loss: 3.602: 100%|████████████████████████████████████████████████████████| 78/78 [00:04<00:00, 17.17it/s]\n",
      "Train 25/49, Loss: 3.588: 100%|██████████████████████████████████████████████████████| 312/312 [01:04<00:00,  4.83it/s]\n",
      "Valid 25/49, Loss: 3.599: 100%|████████████████████████████████████████████████████████| 78/78 [00:04<00:00, 16.94it/s]\n",
      "Train 26/49, Loss: 3.588: 100%|██████████████████████████████████████████████████████| 312/312 [01:04<00:00,  4.83it/s]\n",
      "Valid 26/49, Loss: 3.598: 100%|████████████████████████████████████████████████████████| 78/78 [00:04<00:00, 16.95it/s]\n",
      "Train 27/49, Loss: 3.588: 100%|██████████████████████████████████████████████████████| 312/312 [01:04<00:00,  4.81it/s]\n",
      "Valid 27/49, Loss: 3.597: 100%|████████████████████████████████████████████████████████| 78/78 [00:04<00:00, 17.39it/s]\n",
      "Train 28/49, Loss: 3.588: 100%|██████████████████████████████████████████████████████| 312/312 [01:04<00:00,  4.82it/s]\n",
      "Valid 28/49, Loss: 3.600: 100%|████████████████████████████████████████████████████████| 78/78 [00:04<00:00, 17.10it/s]\n",
      "Train 29/49, Loss: 3.588: 100%|██████████████████████████████████████████████████████| 312/312 [01:04<00:00,  4.82it/s]\n",
      "Valid 29/49, Loss: 3.595: 100%|████████████████████████████████████████████████████████| 78/78 [00:04<00:00, 17.09it/s]\n",
      "Train 30/49, Loss: 3.588: 100%|██████████████████████████████████████████████████████| 312/312 [01:04<00:00,  4.81it/s]\n",
      "Valid 30/49, Loss: 3.594: 100%|████████████████████████████████████████████████████████| 78/78 [00:04<00:00, 17.16it/s]\n",
      "Train 31/49, Loss: 3.587: 100%|██████████████████████████████████████████████████████| 312/312 [01:04<00:00,  4.81it/s]\n",
      "Valid 31/49, Loss: 3.597: 100%|████████████████████████████████████████████████████████| 78/78 [00:04<00:00, 16.66it/s]\n",
      "Train 32/49, Loss: 3.587: 100%|██████████████████████████████████████████████████████| 312/312 [01:04<00:00,  4.80it/s]\n",
      "Valid 32/49, Loss: 3.598: 100%|████████████████████████████████████████████████████████| 78/78 [00:04<00:00, 16.69it/s]\n",
      "Train 33/49, Loss: 3.587: 100%|██████████████████████████████████████████████████████| 312/312 [01:04<00:00,  4.80it/s]\n",
      "Valid 33/49, Loss: 3.594: 100%|████████████████████████████████████████████████████████| 78/78 [00:04<00:00, 16.77it/s]\n"
     ]
    },
    {
     "name": "stderr",
     "output_type": "stream",
     "text": [
      "Train 34/49, Loss: 3.586: 100%|██████████████████████████████████████████████████████| 312/312 [01:05<00:00,  4.79it/s]\n",
      "Valid 34/49, Loss: 3.593: 100%|████████████████████████████████████████████████████████| 78/78 [00:04<00:00, 17.17it/s]\n",
      "Train 35/49, Loss: 3.586: 100%|██████████████████████████████████████████████████████| 312/312 [01:04<00:00,  4.81it/s]\n",
      "Valid 35/49, Loss: 3.594: 100%|████████████████████████████████████████████████████████| 78/78 [00:04<00:00, 17.28it/s]\n",
      "Train 36/49, Loss: 3.586: 100%|██████████████████████████████████████████████████████| 312/312 [01:04<00:00,  4.81it/s]\n",
      "Valid 36/49, Loss: 3.593: 100%|████████████████████████████████████████████████████████| 78/78 [00:04<00:00, 17.34it/s]\n",
      "Train 37/49, Loss: 3.585: 100%|██████████████████████████████████████████████████████| 312/312 [01:04<00:00,  4.81it/s]\n",
      "Valid 37/49, Loss: 3.593: 100%|████████████████████████████████████████████████████████| 78/78 [00:04<00:00, 17.16it/s]\n",
      "Train 38/49, Loss: 3.585: 100%|██████████████████████████████████████████████████████| 312/312 [01:04<00:00,  4.81it/s]\n",
      "Valid 38/49, Loss: 3.597: 100%|████████████████████████████████████████████████████████| 78/78 [00:04<00:00, 16.97it/s]\n",
      "Train 39/49, Loss: 3.584: 100%|██████████████████████████████████████████████████████| 312/312 [01:04<00:00,  4.82it/s]\n",
      "Valid 39/49, Loss: 3.592: 100%|████████████████████████████████████████████████████████| 78/78 [00:04<00:00, 16.90it/s]\n",
      "Train 40/49, Loss: 3.584: 100%|██████████████████████████████████████████████████████| 312/312 [01:04<00:00,  4.83it/s]\n",
      "Valid 40/49, Loss: 3.594: 100%|████████████████████████████████████████████████████████| 78/78 [00:04<00:00, 16.88it/s]\n",
      "Train 41/49, Loss: 3.583: 100%|██████████████████████████████████████████████████████| 312/312 [01:04<00:00,  4.81it/s]\n",
      "Valid 41/49, Loss: 3.595: 100%|████████████████████████████████████████████████████████| 78/78 [00:04<00:00, 16.97it/s]\n",
      "Train 42/49, Loss: 3.583: 100%|██████████████████████████████████████████████████████| 312/312 [01:04<00:00,  4.81it/s]\n",
      "Valid 42/49, Loss: 3.592: 100%|████████████████████████████████████████████████████████| 78/78 [00:04<00:00, 17.12it/s]\n",
      "Train 43/49, Loss: 3.583: 100%|██████████████████████████████████████████████████████| 312/312 [01:04<00:00,  4.83it/s]\n",
      "Valid 43/49, Loss: 3.592: 100%|████████████████████████████████████████████████████████| 78/78 [00:04<00:00, 17.15it/s]\n",
      "Train 44/49, Loss: 3.582: 100%|██████████████████████████████████████████████████████| 312/312 [01:05<00:00,  4.79it/s]\n",
      "Valid 44/49, Loss: 3.592: 100%|████████████████████████████████████████████████████████| 78/78 [00:04<00:00, 16.72it/s]\n",
      "Train 45/49, Loss: 3.581: 100%|██████████████████████████████████████████████████████| 312/312 [01:04<00:00,  4.83it/s]\n",
      "Valid 45/49, Loss: 3.593: 100%|████████████████████████████████████████████████████████| 78/78 [00:04<00:00, 16.69it/s]\n",
      "Train 46/49, Loss: 3.582: 100%|██████████████████████████████████████████████████████| 312/312 [01:04<00:00,  4.83it/s]\n",
      "Valid 46/49, Loss: 3.592: 100%|████████████████████████████████████████████████████████| 78/78 [00:04<00:00, 17.28it/s]\n",
      "Train 47/49, Loss: 3.582: 100%|██████████████████████████████████████████████████████| 312/312 [01:04<00:00,  4.83it/s]\n",
      "Valid 47/49, Loss: 3.592: 100%|████████████████████████████████████████████████████████| 78/78 [00:04<00:00, 17.17it/s]\n",
      "Train 48/49, Loss: 3.581: 100%|██████████████████████████████████████████████████████| 312/312 [01:04<00:00,  4.83it/s]\n",
      "Valid 48/49, Loss: 3.592: 100%|████████████████████████████████████████████████████████| 78/78 [00:04<00:00, 17.03it/s]\n",
      "Train 49/49, Loss: 3.581: 100%|██████████████████████████████████████████████████████| 312/312 [01:04<00:00,  4.83it/s]\n",
      "Valid 49/49, Loss: 3.591: 100%|████████████████████████████████████████████████████████| 78/78 [00:04<00:00, 17.08it/s]\n"
     ]
    }
   ],
   "source": [
    "train_losses, valid_losses = trainer.run()"
   ]
  },
  {
   "cell_type": "markdown",
   "metadata": {},
   "source": [
    "## Забираем \"обученный\" энкодер и обучаем на базе него классификатор"
   ]
  },
  {
   "cell_type": "code",
   "execution_count": 7,
   "metadata": {
    "scrolled": true
   },
   "outputs": [],
   "source": [
    "from for_task6.cifar_classifier_train_class import CIFARClassifierTrainProcess"
   ]
  },
  {
   "cell_type": "code",
   "execution_count": 8,
   "metadata": {},
   "outputs": [
    {
     "name": "stdout",
     "output_type": "stream",
     "text": [
      "Train size: 7000 Valid size: 3000\n"
     ]
    }
   ],
   "source": [
    "with open('./for_task6/hyp_params_classifier.yaml', 'r') as f:\n",
    "    hyps = yaml.load(f, Loader=yaml.SafeLoader)\n",
    "\n",
    "set_seed(hyps['seed'])\n",
    "\n",
    "new_trainer = CIFARClassifierTrainProcess(hyps, trainer.model.encoder, trainer.model.emb_size)\n",
    "new_trainer.device = 'cuda'\n",
    "new_trainer.init_params(X_test_train, y_test_train, X_test_val, y_test_val, valid_transform, valid_transform)"
   ]
  },
  {
   "cell_type": "code",
   "execution_count": 9,
   "metadata": {
    "scrolled": false
   },
   "outputs": [
    {
     "name": "stderr",
     "output_type": "stream",
     "text": [
      "Train 0/4, F1: 0.301, Loss: 1.866: 100%|███████████████████████████████████████████████| 54/54 [00:02<00:00, 25.98it/s]\n",
      "Valid 0/4, F1: 0.320, Loss: 1.799: 100%|███████████████████████████████████████████████| 23/23 [00:00<00:00, 28.71it/s]\n",
      "Train 1/4, F1: 0.363, Loss: 1.732: 100%|███████████████████████████████████████████████| 54/54 [00:01<00:00, 31.68it/s]\n",
      "Valid 1/4, F1: 0.342, Loss: 1.746: 100%|███████████████████████████████████████████████| 23/23 [00:00<00:00, 30.62it/s]\n",
      "Train 2/4, F1: 0.369, Loss: 1.684: 100%|███████████████████████████████████████████████| 54/54 [00:01<00:00, 31.52it/s]\n",
      "Valid 2/4, F1: 0.356, Loss: 1.730: 100%|███████████████████████████████████████████████| 23/23 [00:00<00:00, 30.99it/s]\n",
      "Train 3/4, F1: 0.396, Loss: 1.641: 100%|███████████████████████████████████████████████| 54/54 [00:01<00:00, 31.52it/s]\n",
      "Valid 3/4, F1: 0.376, Loss: 1.672: 100%|███████████████████████████████████████████████| 23/23 [00:00<00:00, 32.62it/s]\n",
      "Train 4/4, F1: 0.411, Loss: 1.610: 100%|███████████████████████████████████████████████| 54/54 [00:01<00:00, 31.65it/s]\n",
      "Valid 4/4, F1: 0.374, Loss: 1.701: 100%|███████████████████████████████████████████████| 23/23 [00:00<00:00, 31.50it/s]\n"
     ]
    },
    {
     "data": {
      "image/png": "[encoded data removed]",
      "text/plain": [
       "<Figure size 1280x480 with 2 Axes>"
      ]
     },
     "metadata": {},
     "output_type": "display_data"
    }
   ],
   "source": [
    "new_train_losses, new_valid_losses = new_trainer.run()\n",
    "plot_losses(np.array(new_train_losses), np.array(new_valid_losses), 'CrossEntropy', 'F1')"
   ]
  },
  {
   "cell_type": "markdown",
   "metadata": {},
   "source": [
    "## Для сравнения возьмем тот де предобученный энекодер и без доп обучения сразу на базе него обучим классификатор"
   ]
  },
  {
   "cell_type": "code",
   "execution_count": 10,
   "metadata": {
    "collapsed": true
   },
   "outputs": [
    {
     "name": "stderr",
     "output_type": "stream",
     "text": [
      "C:\\Users\\Admin\\anaconda3\\envs\\ldw\\lib\\site-packages\\torchvision\\models\\_utils.py:208: UserWarning: The parameter 'pretrained' is deprecated since 0.13 and will be removed in 0.15, please use 'weights' instead.\n",
      "  warnings.warn(\n",
      "C:\\Users\\Admin\\anaconda3\\envs\\ldw\\lib\\site-packages\\torchvision\\models\\_utils.py:223: UserWarning: Arguments other than a weight enum or `None` for 'weights' are deprecated since 0.13 and will be removed in 0.15. The current behavior is equivalent to passing `weights=ResNet50_Weights.IMAGENET1K_V1`. You can also use `weights=ResNet50_Weights.DEFAULT` to get the most up-to-date weights.\n",
      "  warnings.warn(msg)\n"
     ]
    },
    {
     "name": "stdout",
     "output_type": "stream",
     "text": [
      "Train size: 7000 Valid size: 3000\n"
     ]
    }
   ],
   "source": [
    "from for_task6.model import PreModel\n",
    "m = PreModel()\n",
    "\n",
    "with open('./for_task6/hyp_params_classifier.yaml', 'r') as f:\n",
    "    hyps = yaml.load(f, Loader=yaml.SafeLoader)\n",
    "\n",
    "set_seed(hyps['seed'])\n",
    "\n",
    "new_trainer_with_simple_encoder = CIFARClassifierTrainProcess(hyps, m.encoder, m.emb_size)\n",
    "new_trainer_with_simple_encoder.device = 'cuda'\n",
    "new_trainer_with_simple_encoder.init_params(X_test_train, y_test_train, X_test_val, y_test_val, valid_transform, valid_transform)"
   ]
  },
  {
   "cell_type": "code",
   "execution_count": 11,
   "metadata": {
    "scrolled": false
   },
   "outputs": [
    {
     "name": "stderr",
     "output_type": "stream",
     "text": [
      "Train 0/4, F1: 0.325, Loss: 1.848: 100%|███████████████████████████████████████████████| 54/54 [00:01<00:00, 28.58it/s]\n",
      "Valid 0/4, F1: 0.384, Loss: 1.665: 100%|███████████████████████████████████████████████| 23/23 [00:00<00:00, 32.34it/s]\n",
      "Train 1/4, F1: 0.455, Loss: 1.540: 100%|███████████████████████████████████████████████| 54/54 [00:01<00:00, 32.41it/s]\n",
      "Valid 1/4, F1: 0.429, Loss: 1.566: 100%|███████████████████████████████████████████████| 23/23 [00:00<00:00, 31.24it/s]\n",
      "Train 2/4, F1: 0.500, Loss: 1.409: 100%|███████████████████████████████████████████████| 54/54 [00:01<00:00, 32.06it/s]\n",
      "Valid 2/4, F1: 0.444, Loss: 1.560: 100%|███████████████████████████████████████████████| 23/23 [00:00<00:00, 30.18it/s]\n",
      "Train 3/4, F1: 0.546, Loss: 1.272: 100%|███████████████████████████████████████████████| 54/54 [00:01<00:00, 32.43it/s]\n",
      "Valid 3/4, F1: 0.447, Loss: 1.577: 100%|███████████████████████████████████████████████| 23/23 [00:00<00:00, 30.34it/s]\n",
      "Train 4/4, F1: 0.590, Loss: 1.152: 100%|███████████████████████████████████████████████| 54/54 [00:01<00:00, 31.95it/s]\n",
      "Valid 4/4, F1: 0.442, Loss: 1.633: 100%|███████████████████████████████████████████████| 23/23 [00:00<00:00, 30.95it/s]\n"
     ]
    },
    {
     "data": {
      "image/png": "[encoded data removed]",
      "text/plain": [
       "<Figure size 1280x480 with 2 Axes>"
      ]
     },
     "metadata": {},
     "output_type": "display_data"
    }
   ],
   "source": [
    "new_train_losses_simple_encoder, new_valid_losses_simple_encoder = new_trainer_with_simple_encoder.run()\n",
    "plot_losses(np.array(new_train_losses_simple_encoder), np.array(new_valid_losses_simple_encoder), 'CrossEntropy', 'F1')"
   ]
  },
  {
   "cell_type": "markdown",
   "metadata": {},
   "source": [
    "### Второй вариант показал себя лучше. Скорее всего дело в недостаточном обучении предобученного энкодера"
   ]
  }
 ],
 "metadata": {
  "accelerator": "GPU",
  "colab": {
   "provenance": []
  },
  "kernelspec": {
   "display_name": "Python 3 (ipykernel)",
   "language": "python",
   "name": "python3"
  },
  "language_info": {
   "codemirror_mode": {
    "name": "ipython",
    "version": 3
   },
   "file_extension": ".py",
   "mimetype": "text/x-python",
   "name": "python",
   "nbconvert_exporter": "python",
   "pygments_lexer": "ipython3",
   "version": "3.10.6"
  },
  "widgets": {
   "application/vnd.jupyter.widget-state+json": {
    "24a35701eba84c088f88444e642f427c": {
     "model_module": "@jupyter-widgets/base",
     "model_module_version": "1.2.0",
     "model_name": "LayoutModel",
     "state": {
      "_model_module": "@jupyter-widgets/base",
      "_model_module_version": "1.2.0",
      "_model_name": "LayoutModel",
      "_view_count": null,
      "_view_module": "@jupyter-widgets/base",
      "_view_module_version": "1.2.0",
      "_view_name": "LayoutView",
      "align_content": null,
      "align_items": null,
      "align_self": null,
      "border": null,
      "bottom": null,
      "display": null,
      "flex": null,
      "flex_flow": null,
      "grid_area": null,
      "grid_auto_columns": null,
      "grid_auto_flow": null,
      "grid_auto_rows": null,
      "grid_column": null,
      "grid_gap": null,
      "grid_row": null,
      "grid_template_areas": null,
      "grid_template_columns": null,
      "grid_template_rows": null,
      "height": null,
      "justify_content": null,
      "justify_items": null,
      "left": null,
      "margin": null,
      "max_height": null,
      "max_width": null,
      "min_height": null,
      "min_width": null,
      "object_fit": null,
      "object_position": null,
      "order": null,
      "overflow": null,
      "overflow_x": null,
      "overflow_y": null,
      "padding": null,
      "right": null,
      "top": null,
      "visibility": null,
      "width": null
     }
    },
    "2bb8eae213a14d08ae3df513e9d8ab55": {
     "model_module": "@jupyter-widgets/base",
     "model_module_version": "1.2.0",
     "model_name": "LayoutModel",
     "state": {
      "_model_module": "@jupyter-widgets/base",
      "_model_module_version": "1.2.0",
      "_model_name": "LayoutModel",
      "_view_count": null,
      "_view_module": "@jupyter-widgets/base",
      "_view_module_version": "1.2.0",
      "_view_name": "LayoutView",
      "align_content": null,
      "align_items": null,
      "align_self": null,
      "border": null,
      "bottom": null,
      "display": null,
      "flex": null,
      "flex_flow": null,
      "grid_area": null,
      "grid_auto_columns": null,
      "grid_auto_flow": null,
      "grid_auto_rows": null,
      "grid_column": null,
      "grid_gap": null,
      "grid_row": null,
      "grid_template_areas": null,
      "grid_template_columns": null,
      "grid_template_rows": null,
      "height": null,
      "justify_content": null,
      "justify_items": null,
      "left": null,
      "margin": null,
      "max_height": null,
      "max_width": null,
      "min_height": null,
      "min_width": null,
      "object_fit": null,
      "object_position": null,
      "order": null,
      "overflow": null,
      "overflow_x": null,
      "overflow_y": null,
      "padding": null,
      "right": null,
      "top": null,
      "visibility": null,
      "width": null
     }
    },
    "3a51d5b5eb7a430da6c30f3d34ae6c87": {
     "model_module": "@jupyter-widgets/controls",
     "model_module_version": "1.5.0",
     "model_name": "DescriptionStyleModel",
     "state": {
      "_model_module": "@jupyter-widgets/controls",
      "_model_module_version": "1.5.0",
      "_model_name": "DescriptionStyleModel",
      "_view_count": null,
      "_view_module": "@jupyter-widgets/base",
      "_view_module_version": "1.2.0",
      "_view_name": "StyleView",
      "description_width": ""
     }
    },
    "4b07e49b6ec6475a9a2c8dcfd709319c": {
     "model_module": "@jupyter-widgets/controls",
     "model_module_version": "1.5.0",
     "model_name": "HBoxModel",
     "state": {
      "_dom_classes": [],
      "_model_module": "@jupyter-widgets/controls",
      "_model_module_version": "1.5.0",
      "_model_name": "HBoxModel",
      "_view_count": null,
      "_view_module": "@jupyter-widgets/controls",
      "_view_module_version": "1.5.0",
      "_view_name": "HBoxView",
      "box_style": "",
      "children": [
       "IPY_MODEL_bd868f6778374fdbaff7a4ac8312ef04",
       "IPY_MODEL_96547102c2fa4c2ca93bb54195647a52",
       "IPY_MODEL_6452fc39687c400abcc24b046645fd8e"
      ],
      "layout": "IPY_MODEL_b84b79cc58c441d5adfa0370b39c2929"
     }
    },
    "5f04f2c6f13c48d2aa918479bcc82047": {
     "model_module": "@jupyter-widgets/controls",
     "model_module_version": "1.5.0",
     "model_name": "HTMLModel",
     "state": {
      "_dom_classes": [],
      "_model_module": "@jupyter-widgets/controls",
      "_model_module_version": "1.5.0",
      "_model_name": "HTMLModel",
      "_view_count": null,
      "_view_module": "@jupyter-widgets/controls",
      "_view_module_version": "1.5.0",
      "_view_name": "HTMLView",
      "description": "",
      "description_tooltip": null,
      "layout": "IPY_MODEL_24a35701eba84c088f88444e642f427c",
      "placeholder": "​",
      "style": "IPY_MODEL_86d0bcf35852433cb801b5d0aa977aba",
      "value": "Epoch 1 train:  99%"
     }
    },
    "6452fc39687c400abcc24b046645fd8e": {
     "model_module": "@jupyter-widgets/controls",
     "model_module_version": "1.5.0",
     "model_name": "HTMLModel",
     "state": {
      "_dom_classes": [],
      "_model_module": "@jupyter-widgets/controls",
      "_model_module_version": "1.5.0",
      "_model_name": "HTMLModel",
      "_view_count": null,
      "_view_module": "@jupyter-widgets/controls",
      "_view_module_version": "1.5.0",
      "_view_name": "HTMLView",
      "description": "",
      "description_tooltip": null,
      "layout": "IPY_MODEL_98fdc1bef776450dbf03dbdc8dc7285a",
      "placeholder": "​",
      "style": "IPY_MODEL_3a51d5b5eb7a430da6c30f3d34ae6c87",
      "value": " 1/1 [00:00&lt;00:00,  9.54it/s]"
     }
    },
    "6d64fcbf62174736b23bf4d93b170f94": {
     "model_module": "@jupyter-widgets/base",
     "model_module_version": "1.2.0",
     "model_name": "LayoutModel",
     "state": {
      "_model_module": "@jupyter-widgets/base",
      "_model_module_version": "1.2.0",
      "_model_name": "LayoutModel",
      "_view_count": null,
      "_view_module": "@jupyter-widgets/base",
      "_view_module_version": "1.2.0",
      "_view_name": "LayoutView",
      "align_content": null,
      "align_items": null,
      "align_self": null,
      "border": null,
      "bottom": null,
      "display": null,
      "flex": null,
      "flex_flow": null,
      "grid_area": null,
      "grid_auto_columns": null,
      "grid_auto_flow": null,
      "grid_auto_rows": null,
      "grid_column": null,
      "grid_gap": null,
      "grid_row": null,
      "grid_template_areas": null,
      "grid_template_columns": null,
      "grid_template_rows": null,
      "height": null,
      "justify_content": null,
      "justify_items": null,
      "left": null,
      "margin": null,
      "max_height": null,
      "max_width": null,
      "min_height": null,
      "min_width": null,
      "object_fit": null,
      "object_position": null,
      "order": null,
      "overflow": null,
      "overflow_x": null,
      "overflow_y": null,
      "padding": null,
      "right": null,
      "top": null,
      "visibility": null,
      "width": null
     }
    },
    "6e1e737e5bdb45ddbe5bb93cca22f723": {
     "model_module": "@jupyter-widgets/base",
     "model_module_version": "1.2.0",
     "model_name": "LayoutModel",
     "state": {
      "_model_module": "@jupyter-widgets/base",
      "_model_module_version": "1.2.0",
      "_model_name": "LayoutModel",
      "_view_count": null,
      "_view_module": "@jupyter-widgets/base",
      "_view_module_version": "1.2.0",
      "_view_name": "LayoutView",
      "align_content": null,
      "align_items": null,
      "align_self": null,
      "border": null,
      "bottom": null,
      "display": null,
      "flex": null,
      "flex_flow": null,
      "grid_area": null,
      "grid_auto_columns": null,
      "grid_auto_flow": null,
      "grid_auto_rows": null,
      "grid_column": null,
      "grid_gap": null,
      "grid_row": null,
      "grid_template_areas": null,
      "grid_template_columns": null,
      "grid_template_rows": null,
      "height": null,
      "justify_content": null,
      "justify_items": null,
      "left": null,
      "margin": null,
      "max_height": null,
      "max_width": null,
      "min_height": null,
      "min_width": null,
      "object_fit": null,
      "object_position": null,
      "order": null,
      "overflow": null,
      "overflow_x": null,
      "overflow_y": null,
      "padding": null,
      "right": null,
      "top": null,
      "visibility": null,
      "width": null
     }
    },
    "86d0bcf35852433cb801b5d0aa977aba": {
     "model_module": "@jupyter-widgets/controls",
     "model_module_version": "1.5.0",
     "model_name": "DescriptionStyleModel",
     "state": {
      "_model_module": "@jupyter-widgets/controls",
      "_model_module_version": "1.5.0",
      "_model_name": "DescriptionStyleModel",
      "_view_count": null,
      "_view_module": "@jupyter-widgets/base",
      "_view_module_version": "1.2.0",
      "_view_name": "StyleView",
      "description_width": ""
     }
    },
    "960c3783bfd8486ca50fdbcf2d5f680b": {
     "model_module": "@jupyter-widgets/controls",
     "model_module_version": "1.5.0",
     "model_name": "ProgressStyleModel",
     "state": {
      "_model_module": "@jupyter-widgets/controls",
      "_model_module_version": "1.5.0",
      "_model_name": "ProgressStyleModel",
      "_view_count": null,
      "_view_module": "@jupyter-widgets/base",
      "_view_module_version": "1.2.0",
      "_view_name": "StyleView",
      "bar_color": null,
      "description_width": ""
     }
    },
    "96547102c2fa4c2ca93bb54195647a52": {
     "model_module": "@jupyter-widgets/controls",
     "model_module_version": "1.5.0",
     "model_name": "FloatProgressModel",
     "state": {
      "_dom_classes": [],
      "_model_module": "@jupyter-widgets/controls",
      "_model_module_version": "1.5.0",
      "_model_name": "FloatProgressModel",
      "_view_count": null,
      "_view_module": "@jupyter-widgets/controls",
      "_view_module_version": "1.5.0",
      "_view_name": "ProgressView",
      "bar_style": "success",
      "description": "",
      "description_tooltip": null,
      "layout": "IPY_MODEL_6e1e737e5bdb45ddbe5bb93cca22f723",
      "max": 1,
      "min": 0,
      "orientation": "horizontal",
      "style": "IPY_MODEL_9defe938c2494f16b9c0855b0f0bd9bb",
      "value": 1
     }
    },
    "9705587dd60844c186eaa467ad9667de": {
     "model_module": "@jupyter-widgets/controls",
     "model_module_version": "1.5.0",
     "model_name": "HTMLModel",
     "state": {
      "_dom_classes": [],
      "_model_module": "@jupyter-widgets/controls",
      "_model_module_version": "1.5.0",
      "_model_name": "HTMLModel",
      "_view_count": null,
      "_view_module": "@jupyter-widgets/controls",
      "_view_module_version": "1.5.0",
      "_view_name": "HTMLView",
      "description": "",
      "description_tooltip": null,
      "layout": "IPY_MODEL_6d64fcbf62174736b23bf4d93b170f94",
      "placeholder": "​",
      "style": "IPY_MODEL_d08773a7fc6145b789d05f046c9901e4",
      "value": " 1977/2000 [04:20&lt;00:02,  8.06it/s]"
     }
    },
    "98fdc1bef776450dbf03dbdc8dc7285a": {
     "model_module": "@jupyter-widgets/base",
     "model_module_version": "1.2.0",
     "model_name": "LayoutModel",
     "state": {
      "_model_module": "@jupyter-widgets/base",
      "_model_module_version": "1.2.0",
      "_model_name": "LayoutModel",
      "_view_count": null,
      "_view_module": "@jupyter-widgets/base",
      "_view_module_version": "1.2.0",
      "_view_name": "LayoutView",
      "align_content": null,
      "align_items": null,
      "align_self": null,
      "border": null,
      "bottom": null,
      "display": null,
      "flex": null,
      "flex_flow": null,
      "grid_area": null,
      "grid_auto_columns": null,
      "grid_auto_flow": null,
      "grid_auto_rows": null,
      "grid_column": null,
      "grid_gap": null,
      "grid_row": null,
      "grid_template_areas": null,
      "grid_template_columns": null,
      "grid_template_rows": null,
      "height": null,
      "justify_content": null,
      "justify_items": null,
      "left": null,
      "margin": null,
      "max_height": null,
      "max_width": null,
      "min_height": null,
      "min_width": null,
      "object_fit": null,
      "object_position": null,
      "order": null,
      "overflow": null,
      "overflow_x": null,
      "overflow_y": null,
      "padding": null,
      "right": null,
      "top": null,
      "visibility": null,
      "width": null
     }
    },
    "9defe938c2494f16b9c0855b0f0bd9bb": {
     "model_module": "@jupyter-widgets/controls",
     "model_module_version": "1.5.0",
     "model_name": "ProgressStyleModel",
     "state": {
      "_model_module": "@jupyter-widgets/controls",
      "_model_module_version": "1.5.0",
      "_model_name": "ProgressStyleModel",
      "_view_count": null,
      "_view_module": "@jupyter-widgets/base",
      "_view_module_version": "1.2.0",
      "_view_name": "StyleView",
      "bar_color": null,
      "description_width": ""
     }
    },
    "b66414f320e543958658d316b4bcd704": {
     "model_module": "@jupyter-widgets/controls",
     "model_module_version": "1.5.0",
     "model_name": "FloatProgressModel",
     "state": {
      "_dom_classes": [],
      "_model_module": "@jupyter-widgets/controls",
      "_model_module_version": "1.5.0",
      "_model_name": "FloatProgressModel",
      "_view_count": null,
      "_view_module": "@jupyter-widgets/controls",
      "_view_module_version": "1.5.0",
      "_view_name": "ProgressView",
      "bar_style": "",
      "description": "",
      "description_tooltip": null,
      "layout": "IPY_MODEL_2bb8eae213a14d08ae3df513e9d8ab55",
      "max": 2000,
      "min": 0,
      "orientation": "horizontal",
      "style": "IPY_MODEL_960c3783bfd8486ca50fdbcf2d5f680b",
      "value": 1977
     }
    },
    "b84b79cc58c441d5adfa0370b39c2929": {
     "model_module": "@jupyter-widgets/base",
     "model_module_version": "1.2.0",
     "model_name": "LayoutModel",
     "state": {
      "_model_module": "@jupyter-widgets/base",
      "_model_module_version": "1.2.0",
      "_model_name": "LayoutModel",
      "_view_count": null,
      "_view_module": "@jupyter-widgets/base",
      "_view_module_version": "1.2.0",
      "_view_name": "LayoutView",
      "align_content": null,
      "align_items": null,
      "align_self": null,
      "border": null,
      "bottom": null,
      "display": null,
      "flex": null,
      "flex_flow": null,
      "grid_area": null,
      "grid_auto_columns": null,
      "grid_auto_flow": null,
      "grid_auto_rows": null,
      "grid_column": null,
      "grid_gap": null,
      "grid_row": null,
      "grid_template_areas": null,
      "grid_template_columns": null,
      "grid_template_rows": null,
      "height": null,
      "justify_content": null,
      "justify_items": null,
      "left": null,
      "margin": null,
      "max_height": null,
      "max_width": null,
      "min_height": null,
      "min_width": null,
      "object_fit": null,
      "object_position": null,
      "order": null,
      "overflow": null,
      "overflow_x": null,
      "overflow_y": null,
      "padding": null,
      "right": null,
      "top": null,
      "visibility": null,
      "width": null
     }
    },
    "bb4ebf54c7a7455da7c2d620f60f7c72": {
     "model_module": "@jupyter-widgets/base",
     "model_module_version": "1.2.0",
     "model_name": "LayoutModel",
     "state": {
      "_model_module": "@jupyter-widgets/base",
      "_model_module_version": "1.2.0",
      "_model_name": "LayoutModel",
      "_view_count": null,
      "_view_module": "@jupyter-widgets/base",
      "_view_module_version": "1.2.0",
      "_view_name": "LayoutView",
      "align_content": null,
      "align_items": null,
      "align_self": null,
      "border": null,
      "bottom": null,
      "display": null,
      "flex": null,
      "flex_flow": null,
      "grid_area": null,
      "grid_auto_columns": null,
      "grid_auto_flow": null,
      "grid_auto_rows": null,
      "grid_column": null,
      "grid_gap": null,
      "grid_row": null,
      "grid_template_areas": null,
      "grid_template_columns": null,
      "grid_template_rows": null,
      "height": null,
      "justify_content": null,
      "justify_items": null,
      "left": null,
      "margin": null,
      "max_height": null,
      "max_width": null,
      "min_height": null,
      "min_width": null,
      "object_fit": null,
      "object_position": null,
      "order": null,
      "overflow": null,
      "overflow_x": null,
      "overflow_y": null,
      "padding": null,
      "right": null,
      "top": null,
      "visibility": null,
      "width": null
     }
    },
    "bd868f6778374fdbaff7a4ac8312ef04": {
     "model_module": "@jupyter-widgets/controls",
     "model_module_version": "1.5.0",
     "model_name": "HTMLModel",
     "state": {
      "_dom_classes": [],
      "_model_module": "@jupyter-widgets/controls",
      "_model_module_version": "1.5.0",
      "_model_name": "HTMLModel",
      "_view_count": null,
      "_view_module": "@jupyter-widgets/controls",
      "_view_module_version": "1.5.0",
      "_view_name": "HTMLView",
      "description": "",
      "description_tooltip": null,
      "layout": "IPY_MODEL_bb4ebf54c7a7455da7c2d620f60f7c72",
      "placeholder": "​",
      "style": "IPY_MODEL_be964d392d154a54acdee5b1099939ab",
      "value": "100%"
     }
    },
    "be964d392d154a54acdee5b1099939ab": {
     "model_module": "@jupyter-widgets/controls",
     "model_module_version": "1.5.0",
     "model_name": "DescriptionStyleModel",
     "state": {
      "_model_module": "@jupyter-widgets/controls",
      "_model_module_version": "1.5.0",
      "_model_name": "DescriptionStyleModel",
      "_view_count": null,
      "_view_module": "@jupyter-widgets/base",
      "_view_module_version": "1.2.0",
      "_view_name": "StyleView",
      "description_width": ""
     }
    },
    "d08773a7fc6145b789d05f046c9901e4": {
     "model_module": "@jupyter-widgets/controls",
     "model_module_version": "1.5.0",
     "model_name": "DescriptionStyleModel",
     "state": {
      "_model_module": "@jupyter-widgets/controls",
      "_model_module_version": "1.5.0",
      "_model_name": "DescriptionStyleModel",
      "_view_count": null,
      "_view_module": "@jupyter-widgets/base",
      "_view_module_version": "1.2.0",
      "_view_name": "StyleView",
      "description_width": ""
     }
    },
    "ea13ced050824f6784292fe4a9aaf689": {
     "model_module": "@jupyter-widgets/base",
     "model_module_version": "1.2.0",
     "model_name": "LayoutModel",
     "state": {
      "_model_module": "@jupyter-widgets/base",
      "_model_module_version": "1.2.0",
      "_model_name": "LayoutModel",
      "_view_count": null,
      "_view_module": "@jupyter-widgets/base",
      "_view_module_version": "1.2.0",
      "_view_name": "LayoutView",
      "align_content": null,
      "align_items": null,
      "align_self": null,
      "border": null,
      "bottom": null,
      "display": null,
      "flex": null,
      "flex_flow": null,
      "grid_area": null,
      "grid_auto_columns": null,
      "grid_auto_flow": null,
      "grid_auto_rows": null,
      "grid_column": null,
      "grid_gap": null,
      "grid_row": null,
      "grid_template_areas": null,
      "grid_template_columns": null,
      "grid_template_rows": null,
      "height": null,
      "justify_content": null,
      "justify_items": null,
      "left": null,
      "margin": null,
      "max_height": null,
      "max_width": null,
      "min_height": null,
      "min_width": null,
      "object_fit": null,
      "object_position": null,
      "order": null,
      "overflow": null,
      "overflow_x": null,
      "overflow_y": null,
      "padding": null,
      "right": null,
      "top": null,
      "visibility": null,
      "width": null
     }
    },
    "f387f1d9959f46658c6068c02a9bf4e5": {
     "model_module": "@jupyter-widgets/controls",
     "model_module_version": "1.5.0",
     "model_name": "HBoxModel",
     "state": {
      "_dom_classes": [],
      "_model_module": "@jupyter-widgets/controls",
      "_model_module_version": "1.5.0",
      "_model_name": "HBoxModel",
      "_view_count": null,
      "_view_module": "@jupyter-widgets/controls",
      "_view_module_version": "1.5.0",
      "_view_name": "HBoxView",
      "box_style": "",
      "children": [
       "IPY_MODEL_5f04f2c6f13c48d2aa918479bcc82047",
       "IPY_MODEL_b66414f320e543958658d316b4bcd704",
       "IPY_MODEL_9705587dd60844c186eaa467ad9667de"
      ],
      "layout": "IPY_MODEL_ea13ced050824f6784292fe4a9aaf689"
     }
    }
   }
  }
 },
 "nbformat": 4,
 "nbformat_minor": 1
}
