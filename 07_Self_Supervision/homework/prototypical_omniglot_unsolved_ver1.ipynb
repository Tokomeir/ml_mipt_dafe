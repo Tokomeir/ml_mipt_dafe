{
 "cells": [
  {
   "cell_type": "markdown",
   "metadata": {
    "id": "view-in-github"
   },
   "source": [
    "<a href=\"https://github.com/ml-dafe/ml_mipt_dafe/tree/main/hw2/prototypical_omniglot_unsolved.ipynb\" target=\"_parent\"><img src=\"https://colab.research.google.com/assets/colab-badge.svg\" alt=\"Open In Colab\"/></a>"
   ]
  },
  {
   "cell_type": "markdown",
   "metadata": {
    "id": "GlyMLKngmf-t"
   },
   "source": [
    "# Prototypical Netwoks on the Omniglot dataset"
   ]
  },
  {
   "cell_type": "markdown",
   "metadata": {
    "id": "muQ8UzgAQq5G"
   },
   "source": [
    "Заданием является воспроизведение результатов статьи [Prototypical Networks for Few-shot Learning](https://arxiv.org/pdf/1703.05175v2.pdf)"
   ]
  },
  {
   "cell_type": "markdown",
   "metadata": {
    "id": "uh1W3Lszseoa"
   },
   "source": [
    "## Import libraries"
   ]
  },
  {
   "cell_type": "code",
   "execution_count": 2,
   "metadata": {
    "id": "F8XY5yCCZCYZ",
    "ExecuteTime": {
     "end_time": "2024-05-06T20:26:18.537466300Z",
     "start_time": "2024-05-06T20:26:07.745827800Z"
    }
   },
   "outputs": [],
   "source": [
    "import os\n",
    "from pathlib import Path\n",
    "\n",
    "import cv2\n",
    "import wandb\n",
    "import numpy as np\n",
    "import matplotlib.pyplot as plt\n",
    "from tqdm.notebook import tnrange\n",
    "\n",
    "import torch\n",
    "import torch.nn as nn\n",
    "import torchvision\n",
    "import torch.nn.functional as F\n",
    "import torch.optim as optim\n",
    "from torch.autograd import Variable\n",
    "from PIL import Image"
   ]
  },
  {
   "cell_type": "code",
   "execution_count": 2,
   "metadata": {
    "colab": {
     "base_uri": "https://localhost:8080/"
    },
    "id": "X5zGtLpGIziY",
    "outputId": "91ab3987-6ffa-4808-fc63-999e2c0c5406",
    "scrolled": true,
    "ExecuteTime": {
     "end_time": "2024-05-06T20:26:18.540458900Z",
     "start_time": "2024-05-06T20:26:18.524519300Z"
    }
   },
   "outputs": [
    {
     "name": "stdout",
     "output_type": "stream",
     "text": [
      "True\n"
     ]
    }
   ],
   "source": [
    "# Check GPU support, please do activate GPU\n",
    "print(torch.cuda.is_available())"
   ]
  },
  {
   "cell_type": "markdown",
   "metadata": {
    "id": "Ebffp6XBskUN"
   },
   "source": [
    "## Import data"
   ]
  },
  {
   "cell_type": "markdown",
   "metadata": {
    "id": "5-R_Clr7tEQh"
   },
   "source": [
    "Omniglot dataset - [the official GitHub repository](https://github.com/brendenlake/omniglot)"
   ]
  },
  {
   "cell_type": "code",
   "execution_count": null,
   "metadata": {
    "colab": {
     "base_uri": "https://localhost:8080/"
    },
    "id": "vJcErlaFQq5I",
    "outputId": "a29f1833-c965-4f04-f01a-f24cd2aac16d"
   },
   "outputs": [
    {
     "name": "stdout",
     "output_type": "stream",
     "text": [
      "Collecting wget\n",
      "  Downloading wget-3.2.zip (10 kB)\n",
      "  Preparing metadata (setup.py) ... \u001B[?25l\u001B[?25hdone\n",
      "Building wheels for collected packages: wget\n",
      "  Building wheel for wget (setup.py) ... \u001B[?25l\u001B[?25hdone\n",
      "  Created wheel for wget: filename=wget-3.2-py3-none-any.whl size=9656 sha256=d8256ef419d900210fe9af2f1f3647fee93c00d99e201f101d833a192a18b901\n",
      "  Stored in directory: /root/.cache/pip/wheels/8b/f1/7f/5c94f0a7a505ca1c81cd1d9208ae2064675d97582078e6c769\n",
      "Successfully built wget\n",
      "Installing collected packages: wget\n",
      "Successfully installed wget-3.2\n"
     ]
    }
   ],
   "source": [
    "!pip install wget"
   ]
  },
  {
   "cell_type": "code",
   "execution_count": null,
   "metadata": {
    "colab": {
     "base_uri": "https://localhost:8080/",
     "height": 554
    },
    "id": "7aV-Lqty3qTu",
    "outputId": "3fdd2af9-bf1e-4c0c-8d9a-27c93bb4ae0b",
    "scrolled": true
   },
   "outputs": [
    {
     "name": "stdout",
     "output_type": "stream",
     "text": [
      "\n",
      "Saved under images_evaluation.zip\n",
      "\n",
      "Saved under images_background.zip\n"
     ]
    }
   ],
   "source": [
    "!python -m wget https://github.com/brendenlake/omniglot/raw/master/python/images_evaluation.zip\n",
    "\n",
    "!python -m wget https://github.com/brendenlake/omniglot/raw/master/python/images_background.zip"
   ]
  },
  {
   "cell_type": "code",
   "execution_count": null,
   "metadata": {
    "id": "GnYYF9wL6ZuA"
   },
   "outputs": [],
   "source": [
    "!unzip -qq images_background.zip\n",
    "!unzip -qq images_evaluation.zip"
   ]
  },
  {
   "cell_type": "markdown",
   "metadata": {
    "id": "l33V3V0asntp"
   },
   "source": [
    "## Read data"
   ]
  },
  {
   "cell_type": "markdown",
   "metadata": {
    "id": "Ncg0THAiQkJp"
   },
   "source": []
  },
  {
   "cell_type": "markdown",
   "metadata": {
    "id": "bMLu94FStR5n"
   },
   "source": [
    "Набор данных Omniglot содержит 1623 различных рукописных символа из 50 различных алфавитов. Каждый из 1623 персонажей был нарисован онлайн с помощью Amazon Mechanical Turk 20 разными людьми (то есть 20 примеров на персонажа).\n",
    "Он разделен на фоновый набор из 30 алфавитов и оценочный набор из 20 алфавитов. Мы будем использовать фоновый набор для обучения и оценочный набор для тестирования."
   ]
  },
  {
   "cell_type": "code",
   "execution_count": null,
   "outputs": [],
   "source": [
    "wandb.init(project='homework', name='baseline')"
   ],
   "metadata": {
    "collapsed": false
   }
  },
  {
   "cell_type": "markdown",
   "metadata": {
    "id": "PZtxn74zQq5J"
   },
   "source": [
    "### Задание № 1 - реализуйте функцию чтения данных\n",
    "\n",
    "Вы можете увеличить размер обучающей выборки, если для каждого символа введете 4 класса, соответствующих повороту на 90 градусов. То есть из одного класса сделать x4."
   ]
  },
  {
   "cell_type": "code",
   "execution_count": 4,
   "metadata": {
    "id": "i1pqjzFlQq5K",
    "ExecuteTime": {
     "end_time": "2024-05-06T20:26:42.877448200Z",
     "start_time": "2024-05-06T20:26:42.855509800Z"
    }
   },
   "outputs": [],
   "source": [
    "def read_alphabets(alphabet_directory_path: str):\n",
    "    \"\"\"\n",
    "    Reads all the characters from a given alphabet_directory\n",
    "    Args:\n",
    "      alphabet_directory_path (str): path to diretory with files\n",
    "    Returns:\n",
    "      datax (np.array): array of path name of images\n",
    "      datay (np.array): array of labels\n",
    "    \"\"\"\n",
    "    datax = []  # all file names of images\n",
    "    datay = []  # all class names \n",
    "\n",
    "    for character in os.listdir(alphabet_directory_path):\n",
    "        character_path = os.path.join(alphabet_directory_path, character)\n",
    "        if os.path.isdir(character_path) and 'rotated' not in character_path:\n",
    "            for image in os.listdir(character_path):\n",
    "                if image.endswith('.png'):\n",
    "                    image_path = os.path.join(character_path, image)\n",
    "                    \n",
    "                    datax.append(image_path)\n",
    "                    datay.append(character_path)\n",
    "                    \n",
    "                    original_image = Image.open(image_path)\n",
    "                    \n",
    "                    for degree in [90, 180, 270]:\n",
    "                        rotated_character_path = character_path + f'_rotated_{degree}'\n",
    "                        os.makedirs(rotated_character_path, exist_ok=True)\n",
    "                        \n",
    "                        rotated_image = original_image.rotate(degree)\n",
    "                        rotated_image_path = os.path.join(rotated_character_path, image)\n",
    "                        \n",
    "                        rotated_image.save(rotated_image_path)\n",
    "                        \n",
    "                        datax.append(rotated_image_path)\n",
    "                        datay.append(rotated_character_path)\n",
    "  \n",
    "    return np.array(datax), np.array(datay)"
   ]
  },
  {
   "cell_type": "code",
   "execution_count": 5,
   "metadata": {
    "id": "KiFXQ-BFQq5K",
    "ExecuteTime": {
     "end_time": "2024-05-06T20:26:43.568003700Z",
     "start_time": "2024-05-06T20:26:43.537089500Z"
    }
   },
   "outputs": [],
   "source": [
    "def read_images(base_directory):\n",
    "    \"\"\"\n",
    "    Reads all the alphabets from the base_directory\n",
    "    Uses multithreading to decrease the reading time drastically\n",
    "    \"\"\"\n",
    "    datax = None\n",
    "    datay = None\n",
    "\n",
    "    results = [read_alphabets(base_directory + '/' + directory + '/') for directory in os.listdir(base_directory)]\n",
    "\n",
    "    for result in results:\n",
    "        if datax is None:\n",
    "            datax = result[0]\n",
    "            datay = result[1]\n",
    "        else:\n",
    "            datax = np.concatenate([datax, result[0]])\n",
    "            datay = np.concatenate([datay, result[1]])\n",
    "    return datax, datay"
   ]
  },
  {
   "cell_type": "code",
   "execution_count": 6,
   "metadata": {
    "colab": {
     "base_uri": "https://localhost:8080/",
     "height": 275
    },
    "id": "P7UN-n0l7aT0",
    "outputId": "57bb5830-9f4e-4949-896b-0997370b10aa",
    "ExecuteTime": {
     "end_time": "2024-05-06T20:28:45.153052200Z",
     "start_time": "2024-05-06T20:26:44.527535Z"
    }
   },
   "outputs": [],
   "source": [
    "trainx, trainy = read_images('./images_background')"
   ]
  },
  {
   "cell_type": "code",
   "execution_count": null,
   "outputs": [],
   "source": [],
   "metadata": {
    "collapsed": false
   }
  },
  {
   "cell_type": "code",
   "execution_count": 7,
   "metadata": {
    "id": "G8urUFzNAaYA",
    "ExecuteTime": {
     "end_time": "2024-05-06T20:30:03.007735700Z",
     "start_time": "2024-05-06T20:28:45.157042400Z"
    }
   },
   "outputs": [],
   "source": [
    "testx, testy = read_images('./images_evaluation')"
   ]
  },
  {
   "cell_type": "code",
   "execution_count": null,
   "outputs": [],
   "source": [],
   "metadata": {
    "collapsed": false
   }
  },
  {
   "cell_type": "code",
   "execution_count": 8,
   "metadata": {
    "colab": {
     "base_uri": "https://localhost:8080/"
    },
    "id": "Li3bT2bPAdih",
    "outputId": "fb677a8c-dcf7-41e1-a82e-821957d381d4",
    "ExecuteTime": {
     "end_time": "2024-05-06T20:30:03.024583400Z",
     "start_time": "2024-05-06T20:30:03.009729200Z"
    }
   },
   "outputs": [
    {
     "data": {
      "text/plain": "((77120,), (77120,), (52720,), (52720,))"
     },
     "execution_count": 8,
     "metadata": {},
     "output_type": "execute_result"
    }
   ],
   "source": [
    "trainx.shape, trainy.shape, testx.shape, testy.shape"
   ]
  },
  {
   "cell_type": "markdown",
   "metadata": {
    "id": "J2VcplJ3xA-z"
   },
   "source": [
    "## Create samples"
   ]
  },
  {
   "cell_type": "code",
   "execution_count": 9,
   "metadata": {
    "id": "oDOhxCjd24bw",
    "ExecuteTime": {
     "end_time": "2024-05-06T20:30:09.657356600Z",
     "start_time": "2024-05-06T20:30:09.639344600Z"
    }
   },
   "outputs": [],
   "source": [
    "def extract_sample(n_way, n_support, n_query, datax, datay):\n",
    "    \"\"\"\n",
    "    Picks random sample of size n_support + n_querry, for n_way classes\n",
    "    Args:\n",
    "      n_way (int): number of classes in a classification task\n",
    "      n_support (int): number of labeled examples per class in the support set\n",
    "      n_query (int): number of labeled examples per class in the query set\n",
    "      datax (np.array): dataset of images\n",
    "      datay (np.array): dataset of labels\n",
    "    Returns:\n",
    "      (dict) of:\n",
    "        (torch.Tensor): sample of images. Size (n_way, n_support + n_query, (dim))\n",
    "        (int): n_way\n",
    "        (int): n_support\n",
    "        (int): n_query\n",
    "    \"\"\"\n",
    "    sample = []\n",
    "    K = np.random.choice(np.unique(datay), n_way, replace=False)\n",
    "    for cls in K:\n",
    "        datax_cls = datax[datay == cls]\n",
    "        perm = np.random.permutation(datax_cls)\n",
    "        sample_cls = perm[:(n_support + n_query)]\n",
    "        sample.append([cv2.resize(cv2.imread(fname), (28, 28))\n",
    "                                  for fname in sample_cls])\n",
    "\n",
    "    sample = np.array(sample)\n",
    "    sample = torch.from_numpy(sample).float()\n",
    "    sample = sample.permute(0, 1, 4, 2, 3)\n",
    "    return ({\n",
    "        'images': sample,\n",
    "        'n_way': n_way,\n",
    "        'n_support': n_support,\n",
    "        'n_query': n_query\n",
    "    })"
   ]
  },
  {
   "cell_type": "code",
   "execution_count": 10,
   "metadata": {
    "id": "ia3JLpQRu4fh",
    "ExecuteTime": {
     "end_time": "2024-05-06T20:30:10.138527700Z",
     "start_time": "2024-05-06T20:30:10.088102300Z"
    }
   },
   "outputs": [],
   "source": [
    "def display_sample(sample):\n",
    "    \"\"\"\n",
    "    Displays sample in a grid\n",
    "    Args:\n",
    "      sample (torch.Tensor): sample of images to display\n",
    "    \"\"\"\n",
    "    #need 4D tensor to create grid, currently 5D\n",
    "    sample_4D = sample.view(sample.shape[0] * sample.shape[1], *sample.shape[2:])\n",
    "    #make a grid\n",
    "    out = torchvision.utils.make_grid(sample_4D, nrow=sample.shape[1])\n",
    "\n",
    "    plt.figure(figsize=(16, 7))\n",
    "    plt.imshow(out.permute(1, 2, 0))"
   ]
  },
  {
   "cell_type": "markdown",
   "metadata": {
    "id": "-uGq_ya4yG2K"
   },
   "source": [
    "В качестве примера возьмем образец и отобразим его\n",
    "\n",
    "*   n_way = 8\n",
    "*   n_support = 5\n",
    "*   n_query = 5"
   ]
  },
  {
   "cell_type": "code",
   "execution_count": 11,
   "metadata": {
    "colab": {
     "base_uri": "https://localhost:8080/",
     "height": 621
    },
    "id": "lxOHvWfO1ApZ",
    "outputId": "02dc4a7c-f0f1-4b81-e1e4-c5fdd29d7cec",
    "ExecuteTime": {
     "end_time": "2024-05-06T20:30:13.449114300Z",
     "start_time": "2024-05-06T20:30:12.797550100Z"
    }
   },
   "outputs": [
    {
     "name": "stderr",
     "output_type": "stream",
     "text": [
      "Clipping input data to the valid range for imshow with RGB data ([0..1] for floats or [0..255] for integers).\n"
     ]
    },
    {
     "data": {
      "text/plain": "<Figure size 1600x700 with 1 Axes>",
      "image/png": "[encoded data removed]"
     },
     "metadata": {},
     "output_type": "display_data"
    }
   ],
   "source": [
    "sample_example = extract_sample(8, 5, 5, trainx, trainy)\n",
    "display_sample(sample_example['images'])"
   ]
  },
  {
   "cell_type": "code",
   "execution_count": 12,
   "metadata": {
    "colab": {
     "base_uri": "https://localhost:8080/"
    },
    "id": "RhDNMyG8AjOB",
    "outputId": "838e72d0-eaaf-4a49-b039-97c58892b583",
    "ExecuteTime": {
     "end_time": "2024-05-06T20:30:15.776497300Z",
     "start_time": "2024-05-06T20:30:15.744811200Z"
    }
   },
   "outputs": [
    {
     "data": {
      "text/plain": "torch.Size([8, 10, 3, 28, 28])"
     },
     "execution_count": 12,
     "metadata": {},
     "output_type": "execute_result"
    }
   ],
   "source": [
    "sample_example['images'].shape"
   ]
  },
  {
   "cell_type": "markdown",
   "metadata": {
    "id": "HbakTT_nFubI"
   },
   "source": [
    "## Build model"
   ]
  },
  {
   "cell_type": "markdown",
   "metadata": {
    "id": "VuvH9joezgja"
   },
   "source": [
    "Модель берет на вход (28x28x3) и возвращает вектор-столбец длиной 64. Каждый модуль модели состоит из свертки 3 × 3 с 64 фильтрами, слоя пакетной нормализации, нелинейности ReLU и слоя максимального объединения 2 × 2 (см. описание задания).\n",
    "\n",
    "Применительно к изображениям Omniglot 28 × 28 эта архитектура приводит к 64-мерному выходному пространству."
   ]
  },
  {
   "cell_type": "markdown",
   "metadata": {
    "id": "omjUTiOSQq5M"
   },
   "source": [
    "### Задание № 2 - реализуйте энкодер на основе сверточной нейроннй сети"
   ]
  },
  {
   "cell_type": "code",
   "execution_count": 13,
   "metadata": {
    "id": "wQ_jARA5Qq5M",
    "ExecuteTime": {
     "end_time": "2024-05-06T20:30:28.392037800Z",
     "start_time": "2024-05-06T20:30:28.337187Z"
    }
   },
   "outputs": [],
   "source": [
    "def get_submodule(in_channels, out_channels, kernel_size = 3):\n",
    "    padding = kernel_size // 2\n",
    "    return nn.Sequential(\n",
    "        nn.Conv2d(in_channels, out_channels, kernel_size, padding=padding),\n",
    "        nn.BatchNorm2d(out_channels),\n",
    "        nn.ReLU(),\n",
    "        nn.MaxPool2d(2)\n",
    "    )\n",
    "\n",
    "def get_encoder(x_dim, hid_dim, z_dim):\n",
    "    return nn.Sequential(\n",
    "        get_submodule(x_dim, hid_dim),\n",
    "        get_submodule(hid_dim, hid_dim),\n",
    "        get_submodule(hid_dim, hid_dim),\n",
    "        get_submodule(hid_dim, z_dim)\n",
    "    )"
   ]
  },
  {
   "cell_type": "markdown",
   "metadata": {
    "id": "H9n-gyqBQq5M"
   },
   "source": [
    "### Задание № 3 - реализуйте Prototypical Networks (``` set_forward_loss ```)"
   ]
  },
  {
   "cell_type": "code",
   "execution_count": 14,
   "metadata": {
    "id": "FTjSYAz1WY5e",
    "ExecuteTime": {
     "end_time": "2024-05-06T20:30:33.440853300Z",
     "start_time": "2024-05-06T20:30:33.425896600Z"
    }
   },
   "outputs": [],
   "source": [
    "class ProtoNet(nn.Module):\n",
    "    def __init__(self, encoder):\n",
    "        \"\"\"\n",
    "        Args:\n",
    "            encoder : CNN encoding the images in sample\n",
    "            n_way (int): number of classes in a classification task\n",
    "            n_support (int): number of labeled examples per class in the support set\n",
    "            n_query (int): number of labeled examples per class in the query set\n",
    "        \"\"\"\n",
    "        super(ProtoNet, self).__init__()\n",
    "        self.encoder = encoder.cuda()\n",
    "\n",
    "    def set_forward_loss(self, sample):\n",
    "        \"\"\"\n",
    "        Computes loss, accuracy and output for classification task\n",
    "        Args:\n",
    "            sample (torch.Tensor): shape (n_way, n_support+n_query, (dim))\n",
    "        Returns:\n",
    "            torch.Tensor: shape(2), loss, accuracy and y_hat (predict)\n",
    "        \"\"\"\n",
    "        sample_images = sample['images']\n",
    "        n_way = sample['n_way']\n",
    "        n_support = sample['n_support']\n",
    "        n_query = sample['n_query']\n",
    "\n",
    "        sample_images = sample_images.to('cuda')\n",
    "        sample_images = sample_images.view(n_way * (n_support + n_query), *sample_images.shape[-3:])\n",
    "\n",
    "        # img2vec results\n",
    "        vectors = self.encoder(sample_images).view(n_way, (n_support + n_query), -1)\n",
    "\n",
    "        # центры тяжести класстеров классов\n",
    "        prototypes = vectors[:, :n_support].mean(1)\n",
    "\n",
    "        # ищем расстояния от каждого изображения из query до каждого центра тяжести\n",
    "        queries = vectors[:, n_support:].contiguous().view(-1, vectors.shape[-1])\n",
    "        query_dists = list()\n",
    "        for query in queries:\n",
    "            prototype_dists = torch.stack([torch.sqrt(torch.pow(query - prototype, 2).sum()) for prototype in prototypes])\n",
    "            query_dists.append(prototype_dists)\n",
    "        query_dists = torch.stack(query_dists)\n",
    "\n",
    "        probabilities = F.log_softmax(-query_dists, dim=1).view(n_way, n_query, -1)\n",
    "\n",
    "        _, y_hat = probabilities.max(2)\n",
    "\n",
    "        losses = list()\n",
    "        n_true_positive = 0\n",
    "        for way in range(n_way):\n",
    "            for query in range(n_query):\n",
    "            losses.append(-probabilities[way][query][way])\n",
    "            if y_hat[way][query] == way:\n",
    "                n_true_positive += 1\n",
    "        loss_val = torch.stack(losses).mean()\n",
    "        acc = n_true_positive / (n_way * n_query)\n",
    "\n",
    "        return loss_val, {\n",
    "            'loss': loss_val.item(),\n",
    "            'acc': acc,\n",
    "            'y_hat': y_hat\n",
    "            }"
   ]
  },
  {
   "cell_type": "code",
   "execution_count": 15,
   "metadata": {
    "id": "DBzAfRyJB-3X",
    "ExecuteTime": {
     "end_time": "2024-05-06T20:30:36.600840500Z",
     "start_time": "2024-05-06T20:30:36.572913500Z"
    }
   },
   "outputs": [],
   "source": [
    "def load_protonet_conv(**kwargs):\n",
    "    \"\"\"\n",
    "    Loads the prototypical network model\n",
    "    Arg:\n",
    "      x_dim (tuple): dimension of input image\n",
    "      hid_dim (int): dimension of hidden layers in conv blocks\n",
    "      z_dim (int): dimension of embedded image\n",
    "    Returns:\n",
    "      Model (Class ProtoNet)\n",
    "    \"\"\"\n",
    "    encoder = get_encoder(kwargs['x_dim'][0], kwargs['hid_dim'], kwargs['z_dim'])\n",
    "\n",
    "    return ProtoNet(encoder)"
   ]
  },
  {
   "cell_type": "code",
   "execution_count": 16,
   "metadata": {
    "id": "JYytvh5PQq5M",
    "ExecuteTime": {
     "end_time": "2024-05-06T20:30:37.532273400Z",
     "start_time": "2024-05-06T20:30:37.365821800Z"
    }
   },
   "outputs": [],
   "source": [
    "model = load_protonet_conv(**{'x_dim':(3, 28, 28), 'hid_dim':64, 'z_dim':64})"
   ]
  },
  {
   "cell_type": "code",
   "execution_count": 17,
   "metadata": {
    "colab": {
     "base_uri": "https://localhost:8080/"
    },
    "id": "cdv4v28Ze8rn",
    "outputId": "f6c88349-5aed-46db-ca3e-be3fa7a67da5",
    "ExecuteTime": {
     "end_time": "2024-05-06T20:30:43.771165500Z",
     "start_time": "2024-05-06T20:30:38.399894700Z"
    }
   },
   "outputs": [
    {
     "name": "stderr",
     "output_type": "stream",
     "text": [
      "C:\\Users\\L-110\\anaconda3\\envs\\ml_env\\Lib\\site-packages\\torch\\nn\\modules\\conv.py:456: UserWarning: Plan failed with a cudnnException: CUDNN_BACKEND_EXECUTION_PLAN_DESCRIPTOR: cudnnFinalize Descriptor Failed cudnn_status: CUDNN_STATUS_NOT_SUPPORTED (Triggered internally at ..\\aten\\src\\ATen\\native\\cudnn\\Conv_v8.cpp:919.)\n",
      "  return F.conv2d(input, weight, bias, self.stride,\n"
     ]
    },
    {
     "data": {
      "text/plain": "(tensor(1.5121, device='cuda:0', grad_fn=<MeanBackward0>),\n {'loss': 1.5120936632156372,\n  'acc': 0.575,\n  'y_hat': tensor([[0, 4, 6, 7, 0],\n          [1, 1, 1, 1, 1],\n          [4, 0, 4, 4, 2],\n          [3, 3, 3, 1, 0],\n          [4, 5, 4, 0, 4],\n          [4, 0, 2, 5, 5],\n          [6, 6, 4, 3, 6],\n          [7, 7, 7, 2, 7]], device='cuda:0')})"
     },
     "execution_count": 17,
     "metadata": {},
     "output_type": "execute_result"
    }
   ],
   "source": [
    "model.set_forward_loss(sample_example)"
   ]
  },
  {
   "cell_type": "markdown",
   "metadata": {
    "id": "0Fke38yY6pI9",
    "tags": []
   },
   "source": [
    "## Train"
   ]
  },
  {
   "cell_type": "markdown",
   "metadata": {
    "id": "9yf4MrZrQq5N"
   },
   "source": [
    "### Задание № 4 - добавьте логирование в процесс обучения (wandb/neptune/tensorboard)"
   ]
  },
  {
   "cell_type": "code",
   "execution_count": 18,
   "metadata": {
    "id": "BnLOgECOKG_y",
    "ExecuteTime": {
     "end_time": "2024-05-06T20:30:49.535632Z",
     "start_time": "2024-05-06T20:30:49.500724900Z"
    }
   },
   "outputs": [],
   "source": [
    "def train(model, optimizer, train_x, train_y, n_way, n_support, n_query, max_epoch, epoch_size):\n",
    "    \"\"\"\n",
    "    Trains the protonet\n",
    "    Args:\n",
    "      model\n",
    "      optimizer\n",
    "      train_x (np.array): images of training set\n",
    "      train_y(np.array): labels of training set\n",
    "      n_way (int): number of classes in a classification task\n",
    "      n_support (int): number of labeled examples per class in the support set\n",
    "      n_query (int): number of labeled examples per class in the query set\n",
    "      max_epoch (int): max epochs to train on\n",
    "      epoch_size (int): episodes per epoch\n",
    "    \"\"\"\n",
    "    # wandb.watch(model)\n",
    "    #divide the learning rate by 2 at each epoch, as suggested in paper\n",
    "    scheduler = optim.lr_scheduler.StepLR(optimizer, 1, gamma=0.5, last_epoch=-1)\n",
    "    epoch = 0  # epochs done so far\n",
    "    stop = False  # status to know when to stop\n",
    "\n",
    "    while epoch < max_epoch and not stop:\n",
    "        running_loss = 0.0\n",
    "        running_acc = 0.0\n",
    "\n",
    "        for episode in tnrange(epoch_size, desc=\"Epoch {:d} train\".format(epoch + 1)):\n",
    "            sample = extract_sample(n_way, n_support, n_query, train_x, train_y)\n",
    "            optimizer.zero_grad()\n",
    "            loss, output = model.set_forward_loss(sample)\n",
    "            running_loss += output['loss']\n",
    "            running_acc += output['acc']\n",
    "            loss.backward()\n",
    "            optimizer.step()\n",
    "\n",
    "        epoch_loss = running_loss / epoch_size\n",
    "        epoch_acc = running_acc / epoch_size\n",
    "        # wandb.log({'Epoch': epoch + 1, 'Loss': round(epoch_loss, 4), 'Acc': round(epoch_acc, 4)})\n",
    "        print('Epoch {:d} -- Loss: {:.4f} Acc: {:.4f}'.format(epoch+1,epoch_loss, epoch_acc))\n",
    "        epoch += 1\n",
    "        scheduler.step()"
   ]
  },
  {
   "cell_type": "code",
   "execution_count": 67,
   "metadata": {
    "id": "7uMy99qE-Ed6",
    "ExecuteTime": {
     "end_time": "2024-05-06T21:33:07.645678600Z",
     "start_time": "2024-05-06T21:33:07.500552800Z"
    }
   },
   "outputs": [],
   "source": [
    "model = load_protonet_conv(\n",
    "    x_dim=(3, 28, 28),\n",
    "    hid_dim=64,\n",
    "    z_dim=64,\n",
    ")\n",
    "\n",
    "optimizer = optim.Adam(model.parameters(), lr=0.001)\n",
    "\n",
    "n_way = 25\n",
    "n_support = 5\n",
    "n_query = 5\n",
    "\n",
    "train_x = trainx\n",
    "train_y = trainy\n",
    "\n",
    "max_epoch = 2\n",
    "epoch_size = 300"
   ]
  },
  {
   "cell_type": "code",
   "execution_count": 68,
   "metadata": {
    "colab": {
     "base_uri": "https://localhost:8080/",
     "height": 49,
     "referenced_widgets": [
      "f387f1d9959f46658c6068c02a9bf4e5",
      "5f04f2c6f13c48d2aa918479bcc82047",
      "b66414f320e543958658d316b4bcd704",
      "9705587dd60844c186eaa467ad9667de",
      "ea13ced050824f6784292fe4a9aaf689",
      "24a35701eba84c088f88444e642f427c",
      "86d0bcf35852433cb801b5d0aa977aba",
      "2bb8eae213a14d08ae3df513e9d8ab55",
      "960c3783bfd8486ca50fdbcf2d5f680b",
      "6d64fcbf62174736b23bf4d93b170f94",
      "d08773a7fc6145b789d05f046c9901e4"
     ]
    },
    "id": "XPEeLbnYQq5N",
    "outputId": "a8bcff12-8cbc-4c60-c9fb-7a966183e807",
    "ExecuteTime": {
     "end_time": "2024-05-06T21:56:00.295896200Z",
     "start_time": "2024-05-06T21:33:08.842767500Z"
    }
   },
   "outputs": [
    {
     "data": {
      "text/plain": "Epoch 1 train:   0%|          | 0/300 [00:00<?, ?it/s]",
      "application/vnd.jupyter.widget-view+json": {
       "version_major": 2,
       "version_minor": 0,
       "model_id": "35b17b234316414a8413b337c37780e3"
      }
     },
     "metadata": {},
     "output_type": "display_data"
    },
    {
     "name": "stderr",
     "output_type": "stream",
     "text": [
      "C:\\Users\\L-110\\anaconda3\\envs\\ml_env\\Lib\\site-packages\\torch\\autograd\\graph.py:744: UserWarning: Plan failed with a cudnnException: CUDNN_BACKEND_EXECUTION_PLAN_DESCRIPTOR: cudnnFinalize Descriptor Failed cudnn_status: CUDNN_STATUS_NOT_SUPPORTED (Triggered internally at ..\\aten\\src\\ATen\\native\\cudnn\\Conv_v8.cpp:919.)\n",
      "  return Variable._execution_engine.run_backward(  # Calls into the C++ engine to run the backward pass\n"
     ]
    },
    {
     "name": "stdout",
     "output_type": "stream",
     "text": [
      "Epoch 1 -- Loss: 0.2896 Acc: 0.9390\n"
     ]
    },
    {
     "data": {
      "text/plain": "Epoch 2 train:   0%|          | 0/300 [00:00<?, ?it/s]",
      "application/vnd.jupyter.widget-view+json": {
       "version_major": 2,
       "version_minor": 0,
       "model_id": "492ef8d276f44939b683725ba4a7a312"
      }
     },
     "metadata": {},
     "output_type": "display_data"
    },
    {
     "name": "stdout",
     "output_type": "stream",
     "text": [
      "Epoch 2 -- Loss: 0.0878 Acc: 0.9819\n",
      "CPU times: total: 17min 43s\n",
      "Wall time: 22min 51s\n"
     ]
    }
   ],
   "source": [
    "%%time\n",
    "\n",
    "train(model, optimizer, train_x, train_y, n_way, n_support, n_query, max_epoch, epoch_size)"
   ]
  },
  {
   "cell_type": "markdown",
   "metadata": {
    "id": "pJu50gOb8WxU"
   },
   "source": [
    "## Test"
   ]
  },
  {
   "cell_type": "code",
   "execution_count": 22,
   "metadata": {
    "id": "qCgoOcCaERHH",
    "ExecuteTime": {
     "end_time": "2024-05-06T20:31:15.552413100Z",
     "start_time": "2024-05-06T20:31:15.531467Z"
    }
   },
   "outputs": [],
   "source": [
    "def test(model, test_x, test_y, n_way, n_support, n_query, test_episode):\n",
    "    \"\"\"\n",
    "    Tests the protonet\n",
    "    Args:\n",
    "      model: trained model\n",
    "      test_x (np.array): images of testing set\n",
    "      test_y (np.array): labels of testing set\n",
    "      n_way (int): number of classes in a classification task\n",
    "      n_support (int): number of labeled examples per class in the support set\n",
    "      n_query (int): number of labeled examples per class in the query set\n",
    "      test_episode (int): number of episodes to test on\n",
    "    \"\"\"\n",
    "    running_loss = 0.0\n",
    "    running_acc = 0.0\n",
    "    for episode in tnrange(test_episode):\n",
    "        sample = extract_sample(n_way, n_support, n_query, test_x, test_y)\n",
    "        loss, output = model.set_forward_loss(sample)\n",
    "        running_loss += output['loss']\n",
    "        running_acc += output['acc']\n",
    "\n",
    "    avg_loss = running_loss / test_episode\n",
    "    avg_acc = running_acc / test_episode\n",
    "    print('Test results -- Loss: {:.4f} Acc: {:.4f}'.format(avg_loss, avg_acc))"
   ]
  },
  {
   "cell_type": "code",
   "execution_count": 69,
   "metadata": {
    "id": "yvyja6x3I6JB",
    "ExecuteTime": {
     "end_time": "2024-05-06T21:56:09.546777600Z",
     "start_time": "2024-05-06T21:56:09.524763100Z"
    }
   },
   "outputs": [],
   "source": [
    "n_way = 5\n",
    "n_support = 5\n",
    "n_query = 5\n",
    "\n",
    "test_x = testx\n",
    "test_y = testy\n",
    "\n",
    "test_episode = 1000"
   ]
  },
  {
   "cell_type": "markdown",
   "metadata": {},
   "source": [
    "5-way 5-shot"
   ]
  },
  {
   "cell_type": "code",
   "execution_count": 27,
   "metadata": {
    "colab": {
     "base_uri": "https://localhost:8080/",
     "height": 66,
     "referenced_widgets": [
      "4b07e49b6ec6475a9a2c8dcfd709319c",
      "bd868f6778374fdbaff7a4ac8312ef04",
      "96547102c2fa4c2ca93bb54195647a52",
      "6452fc39687c400abcc24b046645fd8e",
      "b84b79cc58c441d5adfa0370b39c2929",
      "bb4ebf54c7a7455da7c2d620f60f7c72",
      "be964d392d154a54acdee5b1099939ab",
      "6e1e737e5bdb45ddbe5bb93cca22f723",
      "9defe938c2494f16b9c0855b0f0bd9bb",
      "98fdc1bef776450dbf03dbdc8dc7285a",
      "3a51d5b5eb7a430da6c30f3d34ae6c87"
     ]
    },
    "id": "Q7whKoj0Qq5R",
    "outputId": "f31abba5-00dd-4d0b-b4d1-5a840b54dcea"
   },
   "outputs": [
    {
     "data": {
      "application/vnd.jupyter.widget-view+json": {
       "model_id": "2274abd8295345b9b9d29830ea2344aa",
       "version_major": 2,
       "version_minor": 0
      },
      "text/plain": [
       "  0%|          | 0/1000 [00:00<?, ?it/s]"
      ]
     },
     "metadata": {},
     "output_type": "display_data"
    },
    {
     "name": "stdout",
     "output_type": "stream",
     "text": [
      "Test results -- Loss: 0.0239 Acc: 0.9928\n"
     ]
    }
   ],
   "source": [
    "print('test: 5-way 5-shot')\n",
    "test(model, test_x, test_y, n_way, n_support, n_query, test_episode)"
   ]
  },
  {
   "cell_type": "markdown",
   "metadata": {},
   "source": [
    "5-way 1-shot"
   ]
  },
  {
   "cell_type": "code",
   "execution_count": 28,
   "metadata": {},
   "outputs": [
    {
     "data": {
      "application/vnd.jupyter.widget-view+json": {
       "model_id": "7b89b1e43525413a8a818960aa30fa77",
       "version_major": 2,
       "version_minor": 0
      },
      "text/plain": [
       "  0%|          | 0/1000 [00:00<?, ?it/s]"
      ]
     },
     "metadata": {},
     "output_type": "display_data"
    },
    {
     "name": "stdout",
     "output_type": "stream",
     "text": [
      "Test results -- Loss: 0.0965 Acc: 0.9694\n"
     ]
    }
   ],
   "source": [
    "print('test: 5-way 1-shot')\n",
    "test(model, test_x, test_y, 5, 1, n_query, test_episode)"
   ]
  },
  {
   "cell_type": "markdown",
   "metadata": {},
   "source": [
    "20-way 1-shot"
   ]
  },
  {
   "cell_type": "code",
   "execution_count": 29,
   "metadata": {},
   "outputs": [
    {
     "data": {
      "application/vnd.jupyter.widget-view+json": {
       "model_id": "528da857fa3c42fdae30d4eaf9047ea3",
       "version_major": 2,
       "version_minor": 0
      },
      "text/plain": [
       "  0%|          | 0/1000 [00:00<?, ?it/s]"
      ]
     },
     "metadata": {},
     "output_type": "display_data"
    },
    {
     "name": "stdout",
     "output_type": "stream",
     "text": [
      "Test results -- Loss: 0.2832 Acc: 0.9111\n"
     ]
    }
   ],
   "source": [
    "print('test: 20-way 1-shot')\n",
    "test(model, test_x, test_y, 20, 1, n_query, test_episode)"
   ]
  },
  {
   "cell_type": "markdown",
   "metadata": {},
   "source": [
    "20-way 5-shot"
   ]
  },
  {
   "cell_type": "code",
   "execution_count": 30,
   "metadata": {},
   "outputs": [
    {
     "data": {
      "application/vnd.jupyter.widget-view+json": {
       "model_id": "00037cdd4b57457c857833a778a94013",
       "version_major": 2,
       "version_minor": 0
      },
      "text/plain": [
       "  0%|          | 0/1000 [00:00<?, ?it/s]"
      ]
     },
     "metadata": {},
     "output_type": "display_data"
    },
    {
     "name": "stdout",
     "output_type": "stream",
     "text": [
      "Test results -- Loss: 0.0912 Acc: 0.9745\n"
     ]
    }
   ],
   "source": [
    "print('test: 20-way 5-shot')\n",
    "test(model, test_x, test_y, 20, 5, n_query, test_episode)"
   ]
  },
  {
   "cell_type": "markdown",
   "metadata": {
    "id": "nOH0sg_7EKUW"
   },
   "source": [
    "## Test on specific example"
   ]
  },
  {
   "cell_type": "code",
   "execution_count": 70,
   "metadata": {
    "id": "eO8PcZ_F0ZWc",
    "ExecuteTime": {
     "end_time": "2024-05-06T21:56:15.170947200Z",
     "start_time": "2024-05-06T21:56:14.824104Z"
    }
   },
   "outputs": [
    {
     "name": "stderr",
     "output_type": "stream",
     "text": [
      "Clipping input data to the valid range for imshow with RGB data ([0..1] for floats or [0..255] for integers).\n"
     ]
    },
    {
     "data": {
      "text/plain": "<Figure size 1600x700 with 1 Axes>",
      "image/png": "[encoded data removed]"
     },
     "metadata": {},
     "output_type": "display_data"
    }
   ],
   "source": [
    "my_sample = extract_sample(n_way, n_support, n_query, test_x, test_y)\n",
    "display_sample(my_sample['images'])"
   ]
  },
  {
   "cell_type": "markdown",
   "metadata": {
    "id": "E74P_171Qq5R"
   },
   "source": [
    "### Задание № 5 - добавьте функцию для визуализации предсказания с тестирования\n",
    "\n"
   ]
  },
  {
   "cell_type": "code",
   "execution_count": 71,
   "metadata": {
    "id": "JIR1_i62gOUB",
    "ExecuteTime": {
     "end_time": "2024-05-06T21:56:23.146320600Z",
     "start_time": "2024-05-06T21:56:23.128322Z"
    }
   },
   "outputs": [],
   "source": [
    "from sklearn.manifold import TSNE\n",
    "\n",
    "\n",
    "def show_predictions(sample, encoder):\n",
    "    sample_images = sample['images']\n",
    "    n_way = sample['n_way']\n",
    "    n_support = sample['n_support']\n",
    "    n_query = sample['n_query']\n",
    "\n",
    "    sample_images = sample_images.to('cuda')\n",
    "    sample_images = sample_images.view(n_way * (n_support + n_query), *sample_images.shape[-3:])\n",
    "\n",
    "    # img2vec results\n",
    "    vectors = encoder(sample_images).view(n_way, (n_support + n_query), -1)\n",
    "\n",
    "    # центры тяжести класстеров классов\n",
    "    prototypes = vectors[:, :n_support].mean(1)\n",
    "    prototypes = prototypes.cpu().detach().numpy()\n",
    "    \n",
    "    queries = vectors[:, n_support:].cpu().detach().numpy()\n",
    "    \n",
    "    prototypes = np.expand_dims(prototypes, axis=1)\n",
    "    \n",
    "    feats = np.concatenate([prototypes, queries], axis=1)\n",
    "    feats = feats.reshape(-1, vectors.shape[-1])\n",
    "\n",
    "    print('Train TSNE ... ')\n",
    "    tsne = TSNE(n_components=2, perplexity=5, n_jobs=4)\n",
    "    x_feats = tsne.fit_transform(feats)\n",
    "    \n",
    "    print('Plot labels ...')\n",
    "\n",
    "    fig = plt.figure(figsize=(10, 8))\n",
    "\n",
    "    colors = []\n",
    "\n",
    "    for i in range(n_way):\n",
    "        color = plt.cm.tab10(i / float(n_way))\n",
    "        plt.scatter(x_feats[(n_query + 1) * i, 0], x_feats[(n_query + 1) * i, 1], marker='*', color=color)\n",
    "        colors.append(color)\n",
    "        \n",
    "    for i in range(n_way):\n",
    "        plt.scatter(x_feats[(n_query + 1) * i + 1:(n_query + 1) * (i + 1), 0], x_feats[(n_query + 1) * i + 1: (n_query + 1) * (i + 1), 1], color=colors[i])\n",
    "\n",
    "        \n",
    "    plt.legend([str(i) for i in range(n_way)])\n",
    "    plt.grid(True)\n",
    "    plt.tight_layout()\n",
    "    plt.close()\n",
    "    return fig"
   ]
  },
  {
   "cell_type": "code",
   "execution_count": 72,
   "outputs": [
    {
     "name": "stdout",
     "output_type": "stream",
     "text": [
      "Train TSNE ... \n",
      "Plot labels ...\n"
     ]
    },
    {
     "data": {
      "text/plain": "<Figure size 1000x800 with 1 Axes>",
      "image/png": "[encoded data removed]"
     },
     "execution_count": 72,
     "metadata": {},
     "output_type": "execute_result"
    }
   ],
   "source": [
    "show_predictions(my_sample, model.encoder)"
   ],
   "metadata": {
    "collapsed": false,
    "ExecuteTime": {
     "end_time": "2024-05-06T21:56:25.133888900Z",
     "start_time": "2024-05-06T21:56:24.199410400Z"
    }
   }
  },
  {
   "cell_type": "markdown",
   "metadata": {
    "id": "0UQdmU2FQq5S"
   },
   "source": [
    "# Задание 6: Downstream task\n",
    "\n",
    "## Задание 6.1\n",
    "Ваша задача обучить заданную вами модель CNN методом SimCLR для набора данных CIFAR10, а затем использовать обученный энкодер для решения задачи классификации.\n",
    "\n",
    "**Примечание:**\n",
    "- В качестве базового энкодера можете использовать модель из семинара выше (```resnet18```) или определить свою сеть. **Рекомендуется** использовать уже предобученные сети из [torch zoo](https://pytorch.org/vision/stable/models.html).\n",
    "- В качестве обучающего множества для задачи классификации воспользуйетсь ```X_test```, ```y_test```, которые были определены в самом начале ноутбука. Создайте обучающую и валидационную выборку.\n",
    "- В новой CNN для задачи классификации требуется обучить только полносвязные слои после энкодера. Для этого вам потребуется \"заморозить\" веса энкодера и не учить их. Сделать это можно с помощью команды:\n",
    "```python\n",
    "for p in encoder.parameters():\n",
    "    p.requires_grad = False  \n",
    "```\n",
    "- Процесс обучения модели можно взять из предыдущего семинара\n",
    "\n",
    "## Задание 6.2\n",
    "\n",
    "Сравните полученный результат обучения c и без использования метода SimCLR."
   ]
  },
  {
   "cell_type": "markdown",
   "metadata": {
    "id": "gUS50ZBNQq5S"
   },
   "source": []
  },
  {
   "cell_type": "code",
   "execution_count": 53,
   "metadata": {
    "scrolled": true
   },
   "outputs": [],
   "source": [
    "import numpy as np\n",
    "import matplotlib.pyplot as plt\n",
    "\n",
    "from sklearn.model_selection import train_test_split\n",
    "import torch\n",
    "import torch.nn as nn\n",
    "from torch.utils.data import Dataset\n",
    "import albumentations as A\n",
    "import yaml\n",
    "import random\n",
    "from albumentations.pytorch import ToTensorV2\n",
    "from for_task6.cifar import load_cifar10\n",
    "from PIL import Image\n",
    "\n",
    "#from for_task6.train_class import BaseTrainProcess, SimCLRTrainProcess"
   ]
  },
  {
   "cell_type": "code",
   "execution_count": 2,
   "metadata": {},
   "outputs": [],
   "source": [
    "def set_seed(seed):\n",
    "    np.random.seed(seed)\n",
    "    random.seed(seed)\n",
    "    torch.manual_seed(seed)\n",
    "    torch.cuda.manual_seed(seed)"
   ]
  },
  {
   "cell_type": "code",
   "execution_count": 3,
   "metadata": {},
   "outputs": [],
   "source": [
    "X_train, y_train, X_val, y_val, X_test, y_test = load_cifar10(\"cifar_data\", channels_last=True)\n",
    "X_test_train, X_test_val, y_test_train, y_test_val = train_test_split(X_test, y_test, test_size=0.3)\n",
    "\n",
    "class_names = np.array(['airplane', 'automobile', 'bird', 'cat', 'deer',\n",
    "                        'dog', 'frog', 'horse', 'ship', 'truck'])\n"
   ]
  },
  {
   "cell_type": "code",
   "execution_count": 40,
   "metadata": {},
   "outputs": [],
   "source": [
    "MEAN = tuple(np.mean(X_train, axis=(0, 1, 2), keepdims=True, dtype=float).squeeze())\n",
    "STD = tuple(np.std(X_train, axis=(0, 1, 2), keepdims=True, dtype=float).squeeze())\n",
    "\n",
    "train_transform = A.Compose([\n",
    "    A.OneOf([\n",
    "        A.ColorJitter(),\n",
    "        A.ToGray(),\n",
    "#         A.GaussNoise(),\n",
    "    ]),\n",
    "#     A.OneOf([\n",
    "#         A.Cutout(num_holes=1, max_h_size=10, max_w_size=10),\n",
    "#         A.RandomResizedCrop(32, 32),\n",
    "#         A.GaussianBlur(),\n",
    "#     ]),\n",
    "    A.HorizontalFlip(),\n",
    "#     A.RandomRotate90(),\n",
    "    A.Normalize(mean=MEAN, std=STD),\n",
    "    ToTensorV2()\n",
    "])\n",
    "\n",
    "valid_transform = A.Compose([\n",
    "    A.Normalize(mean=MEAN, std=STD),\n",
    "    ToTensorV2()\n",
    "])"
   ]
  },
  {
   "cell_type": "code",
   "execution_count": 45,
   "metadata": {
    "scrolled": false
   },
   "outputs": [
    {
     "name": "stdout",
     "output_type": "stream",
     "text": [
      "Train size: 40000 Valid size: 10000\n"
     ]
    }
   ],
   "source": [
    "with open('./for_task6/hyp_params.yaml', 'r') as f:\n",
    "    hyps = yaml.load(f, Loader=yaml.SafeLoader)\n",
    "\n",
    "set_seed(hyps['seed'])\n",
    "\n",
    "trainer = SimCLRTrainProcess(hyps)\n",
    "trainer.device = 'cuda'\n",
    "trainer.init_params(X_train, y_train, X_val, y_val, train_transform, valid_transform)"
   ]
  },
  {
   "cell_type": "code",
   "execution_count": 46,
   "metadata": {},
   "outputs": [
    {
     "name": "stderr",
     "output_type": "stream",
     "text": [
      "Train 0/1, Loss: 3.004: 100%|████████████████████████████████████████████████████████| 625/625 [01:19<00:00,  7.85it/s]\n",
      "Valid 0/1, Loss: 2.968: 100%|████████████████████████████████████████████████████████| 156/156 [00:06<00:00, 25.22it/s]\n",
      "Train 1/1, Loss: 2.928: 100%|████████████████████████████████████████████████████████| 625/625 [01:18<00:00,  7.93it/s]\n",
      "Valid 1/1, Loss: 2.940: 100%|████████████████████████████████████████████████████████| 156/156 [00:06<00:00, 25.02it/s]\n"
     ]
    }
   ],
   "source": [
    "train_losses, valid_losses = trainer.run()"
   ]
  },
  {
   "cell_type": "code",
   "execution_count": null,
   "metadata": {},
   "outputs": [],
   "source": []
  },
  {
   "cell_type": "code",
   "execution_count": 72,
   "metadata": {},
   "outputs": [],
   "source": [
    "from for_task6.model import ProjectionHead\n",
    "\n",
    "class NewСlassifier(nn.Module):\n",
    "    def __init__(self, encoder, emb_size, class_num = 10):\n",
    "        super(NewСlassifier, self).__init__()\n",
    "        self.encoder = encoder\n",
    "        \n",
    "        for p in self.encoder.parameters():\n",
    "            p.requires_grad = False\n",
    "        \n",
    "        self.projector = ProjectionHead(emb_size, 2048, class_num)\n",
    "    \n",
    "    def forward(self,x):\n",
    "        out = self.encoder(x)\n",
    "        xp = self.projector(torch.squeeze(out))\n",
    "        return xp\n",
    "    \n",
    "class CustomDataset(Dataset):\n",
    "    def __init__(self, x_data, y_data, transform_augment=None):\n",
    "        self.x_data = x_data\n",
    "        self.y_data = y_data\n",
    "        self.transform_augment = transform_augment\n",
    "                    \n",
    "    def __len__(self):\n",
    "        return len(self.x_data) \n",
    "    \n",
    "    def __getitem__(self, item):\n",
    "        image = self.x_data[item]\n",
    "        label = self.y_data[item]\n",
    "        \n",
    "        if self.transform_augment is not None:\n",
    "            image = (image * 255).astype(np.uint8)\n",
    "            image = self.transform_augment(image=image)['image']\n",
    "        else:\n",
    "            image = torch.tensor(image, dtype=torch.float32)\n",
    "            image = image.permute(2, 0, 1)  # switch to dim, h, w\n",
    "        \n",
    "        label = torch.tensor(label, dtype=torch.long)\n",
    "        \n",
    "        return image, label"
   ]
  },
  {
   "cell_type": "code",
   "execution_count": 73,
   "metadata": {},
   "outputs": [],
   "source": [
    "class NewClassifierTrainProcess(BaseTrainProcess):\n",
    "    def __init__(self, hyp, encoder, emb_size):\n",
    "        super(NewClassifierTrainProcess, self).__init__(hyp)\n",
    "        self.encoder = encoder\n",
    "        self.emb_size = emb_size\n",
    "        \n",
    "    def _inner_init_data(self, X_train, y_train, X_val, y_val, train_transform, valid_transform):\n",
    "        train_dataset = CustomDataset(X_train, y_train, train_transform)\n",
    "        valid_dataset = CustomDataset(X_val, y_val, valid_transform)\n",
    "        return train_dataset, valid_dataset\n",
    "    \n",
    "    def _inner_init_model(self):\n",
    "        self.model = NewСlassifier(self.encoder, self.emb_size)\n",
    "        self.model.to(self.device)\n",
    "\n",
    "    def _inner_init_scheduler(self):\n",
    "        self.lr_scheduler = torch.optim.lr_scheduler.ReduceLROnPlateau(self.optimizer, mode='min')\n",
    "        \n",
    "    def _inner_init_criterion(self):\n",
    "        self.criterion = nn.CrossEntropyLoss().to(self.device)\n",
    "\n",
    "    def _inner_train_step(self, pbar):\n",
    "        cum_loss = 0.0\n",
    "        proc_loss = 0.0\n",
    "        for idx, (x, y) in pbar:\n",
    "            x, y = x.to(self.device), y.to(self.device)\n",
    "\n",
    "            with torch.set_grad_enabled(True):\n",
    "                out = self.model(x)\n",
    "                loss = self.criterion(out, y)\n",
    "\n",
    "                loss.backward()\n",
    "                self.optimizer.step()\n",
    "                self.optimizer.zero_grad()\n",
    "                self.model.zero_grad()\n",
    "\n",
    "            cur_loss = loss.detach().cpu().numpy()\n",
    "            cum_loss += cur_loss\n",
    "\n",
    "            proc_loss = (proc_loss * idx + cur_loss) / (idx + 1)\n",
    "\n",
    "            s = f'Train {self.current_epoch}/{self.hyp[\"epochs\"] - 1}, Loss: {proc_loss:4.3f}'\n",
    "            pbar.set_description(s)\n",
    "\n",
    "        return cum_loss\n",
    "\n",
    "    def _inner_valid_step(self, pbar):\n",
    "        cum_loss = 0.0\n",
    "        proc_loss = 0.0\n",
    "        for idx, (x, y) in pbar:\n",
    "            x, y = x.to(self.device), y.to(self.device)\n",
    "\n",
    "            with torch.set_grad_enabled(False):\n",
    "                out = self.model(x)\n",
    "                loss = self.criterion(out, y)\n",
    "\n",
    "            cur_loss = loss.detach().cpu().numpy()\n",
    "            cum_loss += cur_loss\n",
    "\n",
    "            proc_loss = (proc_loss * idx + cur_loss) / (idx + 1)\n",
    "\n",
    "            s = f'Valid {self.current_epoch}/{self.hyp[\"epochs\"] - 1}, Loss: {proc_loss:4.3f}'\n",
    "            pbar.set_description(s)\n",
    "\n",
    "        return cum_loss\n",
    "    \n",
    "    def scheduler_step(self):\n",
    "        if self.train_losses:\n",
    "            self.lr_scheduler.step(self.train_losses[-1][0])"
   ]
  },
  {
   "cell_type": "markdown",
   "metadata": {},
   "source": [
    "#### обучение со специально обученным энкодером"
   ]
  },
  {
   "cell_type": "code",
   "execution_count": 74,
   "metadata": {},
   "outputs": [
    {
     "name": "stdout",
     "output_type": "stream",
     "text": [
      "Train size: 7000 Valid size: 3000\n"
     ]
    }
   ],
   "source": [
    "with open('./for_task6/hyp_params.yaml', 'r') as f:\n",
    "    hyps = yaml.load(f, Loader=yaml.SafeLoader)\n",
    "\n",
    "set_seed(hyps['seed'])\n",
    "\n",
    "new_trainer = NewClassifierTrainProcess(hyps, trainer.model.encoder, trainer.model.emb_size)\n",
    "new_trainer.device = 'cuda'\n",
    "new_trainer.init_params(X_test_train, y_test_train, X_test_val, y_test_val, valid_transform, valid_transform)"
   ]
  },
  {
   "cell_type": "code",
   "execution_count": 75,
   "metadata": {},
   "outputs": [
    {
     "name": "stderr",
     "output_type": "stream",
     "text": [
      "Train 0/1, Loss: 2.091: 100%|████████████████████████████████████████████████████████| 109/109 [00:02<00:00, 36.47it/s]\n",
      "Valid 0/1, Loss: 2.030: 100%|██████████████████████████████████████████████████████████| 46/46 [00:01<00:00, 45.13it/s]\n",
      "Train 1/1, Loss: 2.055: 100%|████████████████████████████████████████████████████████| 109/109 [00:02<00:00, 40.86it/s]\n",
      "Valid 1/1, Loss: 2.011: 100%|██████████████████████████████████████████████████████████| 46/46 [00:01<00:00, 44.78it/s]\n"
     ]
    }
   ],
   "source": [
    "new_train_losses, new_valid_losses = new_trainer.run()"
   ]
  },
  {
   "cell_type": "markdown",
   "metadata": {},
   "source": [
    "#### обучение с необученным специально энкодером"
   ]
  },
  {
   "cell_type": "code",
   "execution_count": 76,
   "metadata": {},
   "outputs": [
    {
     "name": "stdout",
     "output_type": "stream",
     "text": [
      "Train size: 7000 Valid size: 3000\n"
     ]
    }
   ],
   "source": [
    "from for_task6.model import PreModel\n",
    "m = PreModel()\n",
    "\n",
    "with open('./for_task6/hyp_params.yaml', 'r') as f:\n",
    "    hyps = yaml.load(f, Loader=yaml.SafeLoader)\n",
    "\n",
    "set_seed(hyps['seed'])\n",
    "\n",
    "new_trainer_with_simple_encoder = NewClassifierTrainProcess(hyps, m.encoder, m.emb_size)\n",
    "new_trainer_with_simple_encoder.device = 'cuda'\n",
    "new_trainer_with_simple_encoder.init_params(X_test_train, y_test_train, X_test_val, y_test_val, valid_transform, valid_transform)"
   ]
  },
  {
   "cell_type": "code",
   "execution_count": 77,
   "metadata": {},
   "outputs": [
    {
     "name": "stderr",
     "output_type": "stream",
     "text": [
      "Train 0/1, Loss: 1.831: 100%|████████████████████████████████████████████████████████| 109/109 [00:02<00:00, 38.48it/s]\n",
      "Valid 0/1, Loss: 1.695: 100%|██████████████████████████████████████████████████████████| 46/46 [00:01<00:00, 44.61it/s]\n",
      "Train 1/1, Loss: 1.588: 100%|████████████████████████████████████████████████████████| 109/109 [00:02<00:00, 42.16it/s]\n",
      "Valid 1/1, Loss: 1.594: 100%|██████████████████████████████████████████████████████████| 46/46 [00:01<00:00, 45.09it/s]\n"
     ]
    }
   ],
   "source": [
    "new_train_losses_simple_encoder, new_valid_losses_simple_encoder = new_trainer_with_simple_encoder.run()"
   ]
  }
 ],
 "metadata": {
  "accelerator": "GPU",
  "colab": {
   "provenance": []
  },
  "kernelspec": {
   "display_name": "Python 3 (ipykernel)",
   "language": "python",
   "name": "python3"
  },
  "language_info": {
   "codemirror_mode": {
    "name": "ipython",
    "version": 3
   },
   "file_extension": ".py",
   "mimetype": "text/x-python",
   "name": "python",
   "nbconvert_exporter": "python",
   "pygments_lexer": "ipython3",
   "version": "3.10.6"
  },
  "widgets": {
   "application/vnd.jupyter.widget-state+json": {
    "24a35701eba84c088f88444e642f427c": {
     "model_module": "@jupyter-widgets/base",
     "model_module_version": "1.2.0",
     "model_name": "LayoutModel",
     "state": {
      "_model_module": "@jupyter-widgets/base",
      "_model_module_version": "1.2.0",
      "_model_name": "LayoutModel",
      "_view_count": null,
      "_view_module": "@jupyter-widgets/base",
      "_view_module_version": "1.2.0",
      "_view_name": "LayoutView",
      "align_content": null,
      "align_items": null,
      "align_self": null,
      "border": null,
      "bottom": null,
      "display": null,
      "flex": null,
      "flex_flow": null,
      "grid_area": null,
      "grid_auto_columns": null,
      "grid_auto_flow": null,
      "grid_auto_rows": null,
      "grid_column": null,
      "grid_gap": null,
      "grid_row": null,
      "grid_template_areas": null,
      "grid_template_columns": null,
      "grid_template_rows": null,
      "height": null,
      "justify_content": null,
      "justify_items": null,
      "left": null,
      "margin": null,
      "max_height": null,
      "max_width": null,
      "min_height": null,
      "min_width": null,
      "object_fit": null,
      "object_position": null,
      "order": null,
      "overflow": null,
      "overflow_x": null,
      "overflow_y": null,
      "padding": null,
      "right": null,
      "top": null,
      "visibility": null,
      "width": null
     }
    },
    "2bb8eae213a14d08ae3df513e9d8ab55": {
     "model_module": "@jupyter-widgets/base",
     "model_module_version": "1.2.0",
     "model_name": "LayoutModel",
     "state": {
      "_model_module": "@jupyter-widgets/base",
      "_model_module_version": "1.2.0",
      "_model_name": "LayoutModel",
      "_view_count": null,
      "_view_module": "@jupyter-widgets/base",
      "_view_module_version": "1.2.0",
      "_view_name": "LayoutView",
      "align_content": null,
      "align_items": null,
      "align_self": null,
      "border": null,
      "bottom": null,
      "display": null,
      "flex": null,
      "flex_flow": null,
      "grid_area": null,
      "grid_auto_columns": null,
      "grid_auto_flow": null,
      "grid_auto_rows": null,
      "grid_column": null,
      "grid_gap": null,
      "grid_row": null,
      "grid_template_areas": null,
      "grid_template_columns": null,
      "grid_template_rows": null,
      "height": null,
      "justify_content": null,
      "justify_items": null,
      "left": null,
      "margin": null,
      "max_height": null,
      "max_width": null,
      "min_height": null,
      "min_width": null,
      "object_fit": null,
      "object_position": null,
      "order": null,
      "overflow": null,
      "overflow_x": null,
      "overflow_y": null,
      "padding": null,
      "right": null,
      "top": null,
      "visibility": null,
      "width": null
     }
    },
    "3a51d5b5eb7a430da6c30f3d34ae6c87": {
     "model_module": "@jupyter-widgets/controls",
     "model_module_version": "1.5.0",
     "model_name": "DescriptionStyleModel",
     "state": {
      "_model_module": "@jupyter-widgets/controls",
      "_model_module_version": "1.5.0",
      "_model_name": "DescriptionStyleModel",
      "_view_count": null,
      "_view_module": "@jupyter-widgets/base",
      "_view_module_version": "1.2.0",
      "_view_name": "StyleView",
      "description_width": ""
     }
    },
    "4b07e49b6ec6475a9a2c8dcfd709319c": {
     "model_module": "@jupyter-widgets/controls",
     "model_module_version": "1.5.0",
     "model_name": "HBoxModel",
     "state": {
      "_dom_classes": [],
      "_model_module": "@jupyter-widgets/controls",
      "_model_module_version": "1.5.0",
      "_model_name": "HBoxModel",
      "_view_count": null,
      "_view_module": "@jupyter-widgets/controls",
      "_view_module_version": "1.5.0",
      "_view_name": "HBoxView",
      "box_style": "",
      "children": [
       "IPY_MODEL_bd868f6778374fdbaff7a4ac8312ef04",
       "IPY_MODEL_96547102c2fa4c2ca93bb54195647a52",
       "IPY_MODEL_6452fc39687c400abcc24b046645fd8e"
      ],
      "layout": "IPY_MODEL_b84b79cc58c441d5adfa0370b39c2929"
     }
    },
    "5f04f2c6f13c48d2aa918479bcc82047": {
     "model_module": "@jupyter-widgets/controls",
     "model_module_version": "1.5.0",
     "model_name": "HTMLModel",
     "state": {
      "_dom_classes": [],
      "_model_module": "@jupyter-widgets/controls",
      "_model_module_version": "1.5.0",
      "_model_name": "HTMLModel",
      "_view_count": null,
      "_view_module": "@jupyter-widgets/controls",
      "_view_module_version": "1.5.0",
      "_view_name": "HTMLView",
      "description": "",
      "description_tooltip": null,
      "layout": "IPY_MODEL_24a35701eba84c088f88444e642f427c",
      "placeholder": "​",
      "style": "IPY_MODEL_86d0bcf35852433cb801b5d0aa977aba",
      "value": "Epoch 1 train:  99%"
     }
    },
    "6452fc39687c400abcc24b046645fd8e": {
     "model_module": "@jupyter-widgets/controls",
     "model_module_version": "1.5.0",
     "model_name": "HTMLModel",
     "state": {
      "_dom_classes": [],
      "_model_module": "@jupyter-widgets/controls",
      "_model_module_version": "1.5.0",
      "_model_name": "HTMLModel",
      "_view_count": null,
      "_view_module": "@jupyter-widgets/controls",
      "_view_module_version": "1.5.0",
      "_view_name": "HTMLView",
      "description": "",
      "description_tooltip": null,
      "layout": "IPY_MODEL_98fdc1bef776450dbf03dbdc8dc7285a",
      "placeholder": "​",
      "style": "IPY_MODEL_3a51d5b5eb7a430da6c30f3d34ae6c87",
      "value": " 1/1 [00:00&lt;00:00,  9.54it/s]"
     }
    },
    "6d64fcbf62174736b23bf4d93b170f94": {
     "model_module": "@jupyter-widgets/base",
     "model_module_version": "1.2.0",
     "model_name": "LayoutModel",
     "state": {
      "_model_module": "@jupyter-widgets/base",
      "_model_module_version": "1.2.0",
      "_model_name": "LayoutModel",
      "_view_count": null,
      "_view_module": "@jupyter-widgets/base",
      "_view_module_version": "1.2.0",
      "_view_name": "LayoutView",
      "align_content": null,
      "align_items": null,
      "align_self": null,
      "border": null,
      "bottom": null,
      "display": null,
      "flex": null,
      "flex_flow": null,
      "grid_area": null,
      "grid_auto_columns": null,
      "grid_auto_flow": null,
      "grid_auto_rows": null,
      "grid_column": null,
      "grid_gap": null,
      "grid_row": null,
      "grid_template_areas": null,
      "grid_template_columns": null,
      "grid_template_rows": null,
      "height": null,
      "justify_content": null,
      "justify_items": null,
      "left": null,
      "margin": null,
      "max_height": null,
      "max_width": null,
      "min_height": null,
      "min_width": null,
      "object_fit": null,
      "object_position": null,
      "order": null,
      "overflow": null,
      "overflow_x": null,
      "overflow_y": null,
      "padding": null,
      "right": null,
      "top": null,
      "visibility": null,
      "width": null
     }
    },
    "6e1e737e5bdb45ddbe5bb93cca22f723": {
     "model_module": "@jupyter-widgets/base",
     "model_module_version": "1.2.0",
     "model_name": "LayoutModel",
     "state": {
      "_model_module": "@jupyter-widgets/base",
      "_model_module_version": "1.2.0",
      "_model_name": "LayoutModel",
      "_view_count": null,
      "_view_module": "@jupyter-widgets/base",
      "_view_module_version": "1.2.0",
      "_view_name": "LayoutView",
      "align_content": null,
      "align_items": null,
      "align_self": null,
      "border": null,
      "bottom": null,
      "display": null,
      "flex": null,
      "flex_flow": null,
      "grid_area": null,
      "grid_auto_columns": null,
      "grid_auto_flow": null,
      "grid_auto_rows": null,
      "grid_column": null,
      "grid_gap": null,
      "grid_row": null,
      "grid_template_areas": null,
      "grid_template_columns": null,
      "grid_template_rows": null,
      "height": null,
      "justify_content": null,
      "justify_items": null,
      "left": null,
      "margin": null,
      "max_height": null,
      "max_width": null,
      "min_height": null,
      "min_width": null,
      "object_fit": null,
      "object_position": null,
      "order": null,
      "overflow": null,
      "overflow_x": null,
      "overflow_y": null,
      "padding": null,
      "right": null,
      "top": null,
      "visibility": null,
      "width": null
     }
    },
    "86d0bcf35852433cb801b5d0aa977aba": {
     "model_module": "@jupyter-widgets/controls",
     "model_module_version": "1.5.0",
     "model_name": "DescriptionStyleModel",
     "state": {
      "_model_module": "@jupyter-widgets/controls",
      "_model_module_version": "1.5.0",
      "_model_name": "DescriptionStyleModel",
      "_view_count": null,
      "_view_module": "@jupyter-widgets/base",
      "_view_module_version": "1.2.0",
      "_view_name": "StyleView",
      "description_width": ""
     }
    },
    "960c3783bfd8486ca50fdbcf2d5f680b": {
     "model_module": "@jupyter-widgets/controls",
     "model_module_version": "1.5.0",
     "model_name": "ProgressStyleModel",
     "state": {
      "_model_module": "@jupyter-widgets/controls",
      "_model_module_version": "1.5.0",
      "_model_name": "ProgressStyleModel",
      "_view_count": null,
      "_view_module": "@jupyter-widgets/base",
      "_view_module_version": "1.2.0",
      "_view_name": "StyleView",
      "bar_color": null,
      "description_width": ""
     }
    },
    "96547102c2fa4c2ca93bb54195647a52": {
     "model_module": "@jupyter-widgets/controls",
     "model_module_version": "1.5.0",
     "model_name": "FloatProgressModel",
     "state": {
      "_dom_classes": [],
      "_model_module": "@jupyter-widgets/controls",
      "_model_module_version": "1.5.0",
      "_model_name": "FloatProgressModel",
      "_view_count": null,
      "_view_module": "@jupyter-widgets/controls",
      "_view_module_version": "1.5.0",
      "_view_name": "ProgressView",
      "bar_style": "success",
      "description": "",
      "description_tooltip": null,
      "layout": "IPY_MODEL_6e1e737e5bdb45ddbe5bb93cca22f723",
      "max": 1,
      "min": 0,
      "orientation": "horizontal",
      "style": "IPY_MODEL_9defe938c2494f16b9c0855b0f0bd9bb",
      "value": 1
     }
    },
    "9705587dd60844c186eaa467ad9667de": {
     "model_module": "@jupyter-widgets/controls",
     "model_module_version": "1.5.0",
     "model_name": "HTMLModel",
     "state": {
      "_dom_classes": [],
      "_model_module": "@jupyter-widgets/controls",
      "_model_module_version": "1.5.0",
      "_model_name": "HTMLModel",
      "_view_count": null,
      "_view_module": "@jupyter-widgets/controls",
      "_view_module_version": "1.5.0",
      "_view_name": "HTMLView",
      "description": "",
      "description_tooltip": null,
      "layout": "IPY_MODEL_6d64fcbf62174736b23bf4d93b170f94",
      "placeholder": "​",
      "style": "IPY_MODEL_d08773a7fc6145b789d05f046c9901e4",
      "value": " 1977/2000 [04:20&lt;00:02,  8.06it/s]"
     }
    },
    "98fdc1bef776450dbf03dbdc8dc7285a": {
     "model_module": "@jupyter-widgets/base",
     "model_module_version": "1.2.0",
     "model_name": "LayoutModel",
     "state": {
      "_model_module": "@jupyter-widgets/base",
      "_model_module_version": "1.2.0",
      "_model_name": "LayoutModel",
      "_view_count": null,
      "_view_module": "@jupyter-widgets/base",
      "_view_module_version": "1.2.0",
      "_view_name": "LayoutView",
      "align_content": null,
      "align_items": null,
      "align_self": null,
      "border": null,
      "bottom": null,
      "display": null,
      "flex": null,
      "flex_flow": null,
      "grid_area": null,
      "grid_auto_columns": null,
      "grid_auto_flow": null,
      "grid_auto_rows": null,
      "grid_column": null,
      "grid_gap": null,
      "grid_row": null,
      "grid_template_areas": null,
      "grid_template_columns": null,
      "grid_template_rows": null,
      "height": null,
      "justify_content": null,
      "justify_items": null,
      "left": null,
      "margin": null,
      "max_height": null,
      "max_width": null,
      "min_height": null,
      "min_width": null,
      "object_fit": null,
      "object_position": null,
      "order": null,
      "overflow": null,
      "overflow_x": null,
      "overflow_y": null,
      "padding": null,
      "right": null,
      "top": null,
      "visibility": null,
      "width": null
     }
    },
    "9defe938c2494f16b9c0855b0f0bd9bb": {
     "model_module": "@jupyter-widgets/controls",
     "model_module_version": "1.5.0",
     "model_name": "ProgressStyleModel",
     "state": {
      "_model_module": "@jupyter-widgets/controls",
      "_model_module_version": "1.5.0",
      "_model_name": "ProgressStyleModel",
      "_view_count": null,
      "_view_module": "@jupyter-widgets/base",
      "_view_module_version": "1.2.0",
      "_view_name": "StyleView",
      "bar_color": null,
      "description_width": ""
     }
    },
    "b66414f320e543958658d316b4bcd704": {
     "model_module": "@jupyter-widgets/controls",
     "model_module_version": "1.5.0",
     "model_name": "FloatProgressModel",
     "state": {
      "_dom_classes": [],
      "_model_module": "@jupyter-widgets/controls",
      "_model_module_version": "1.5.0",
      "_model_name": "FloatProgressModel",
      "_view_count": null,
      "_view_module": "@jupyter-widgets/controls",
      "_view_module_version": "1.5.0",
      "_view_name": "ProgressView",
      "bar_style": "",
      "description": "",
      "description_tooltip": null,
      "layout": "IPY_MODEL_2bb8eae213a14d08ae3df513e9d8ab55",
      "max": 2000,
      "min": 0,
      "orientation": "horizontal",
      "style": "IPY_MODEL_960c3783bfd8486ca50fdbcf2d5f680b",
      "value": 1977
     }
    },
    "b84b79cc58c441d5adfa0370b39c2929": {
     "model_module": "@jupyter-widgets/base",
     "model_module_version": "1.2.0",
     "model_name": "LayoutModel",
     "state": {
      "_model_module": "@jupyter-widgets/base",
      "_model_module_version": "1.2.0",
      "_model_name": "LayoutModel",
      "_view_count": null,
      "_view_module": "@jupyter-widgets/base",
      "_view_module_version": "1.2.0",
      "_view_name": "LayoutView",
      "align_content": null,
      "align_items": null,
      "align_self": null,
      "border": null,
      "bottom": null,
      "display": null,
      "flex": null,
      "flex_flow": null,
      "grid_area": null,
      "grid_auto_columns": null,
      "grid_auto_flow": null,
      "grid_auto_rows": null,
      "grid_column": null,
      "grid_gap": null,
      "grid_row": null,
      "grid_template_areas": null,
      "grid_template_columns": null,
      "grid_template_rows": null,
      "height": null,
      "justify_content": null,
      "justify_items": null,
      "left": null,
      "margin": null,
      "max_height": null,
      "max_width": null,
      "min_height": null,
      "min_width": null,
      "object_fit": null,
      "object_position": null,
      "order": null,
      "overflow": null,
      "overflow_x": null,
      "overflow_y": null,
      "padding": null,
      "right": null,
      "top": null,
      "visibility": null,
      "width": null
     }
    },
    "bb4ebf54c7a7455da7c2d620f60f7c72": {
     "model_module": "@jupyter-widgets/base",
     "model_module_version": "1.2.0",
     "model_name": "LayoutModel",
     "state": {
      "_model_module": "@jupyter-widgets/base",
      "_model_module_version": "1.2.0",
      "_model_name": "LayoutModel",
      "_view_count": null,
      "_view_module": "@jupyter-widgets/base",
      "_view_module_version": "1.2.0",
      "_view_name": "LayoutView",
      "align_content": null,
      "align_items": null,
      "align_self": null,
      "border": null,
      "bottom": null,
      "display": null,
      "flex": null,
      "flex_flow": null,
      "grid_area": null,
      "grid_auto_columns": null,
      "grid_auto_flow": null,
      "grid_auto_rows": null,
      "grid_column": null,
      "grid_gap": null,
      "grid_row": null,
      "grid_template_areas": null,
      "grid_template_columns": null,
      "grid_template_rows": null,
      "height": null,
      "justify_content": null,
      "justify_items": null,
      "left": null,
      "margin": null,
      "max_height": null,
      "max_width": null,
      "min_height": null,
      "min_width": null,
      "object_fit": null,
      "object_position": null,
      "order": null,
      "overflow": null,
      "overflow_x": null,
      "overflow_y": null,
      "padding": null,
      "right": null,
      "top": null,
      "visibility": null,
      "width": null
     }
    },
    "bd868f6778374fdbaff7a4ac8312ef04": {
     "model_module": "@jupyter-widgets/controls",
     "model_module_version": "1.5.0",
     "model_name": "HTMLModel",
     "state": {
      "_dom_classes": [],
      "_model_module": "@jupyter-widgets/controls",
      "_model_module_version": "1.5.0",
      "_model_name": "HTMLModel",
      "_view_count": null,
      "_view_module": "@jupyter-widgets/controls",
      "_view_module_version": "1.5.0",
      "_view_name": "HTMLView",
      "description": "",
      "description_tooltip": null,
      "layout": "IPY_MODEL_bb4ebf54c7a7455da7c2d620f60f7c72",
      "placeholder": "​",
      "style": "IPY_MODEL_be964d392d154a54acdee5b1099939ab",
      "value": "100%"
     }
    },
    "be964d392d154a54acdee5b1099939ab": {
     "model_module": "@jupyter-widgets/controls",
     "model_module_version": "1.5.0",
     "model_name": "DescriptionStyleModel",
     "state": {
      "_model_module": "@jupyter-widgets/controls",
      "_model_module_version": "1.5.0",
      "_model_name": "DescriptionStyleModel",
      "_view_count": null,
      "_view_module": "@jupyter-widgets/base",
      "_view_module_version": "1.2.0",
      "_view_name": "StyleView",
      "description_width": ""
     }
    },
    "d08773a7fc6145b789d05f046c9901e4": {
     "model_module": "@jupyter-widgets/controls",
     "model_module_version": "1.5.0",
     "model_name": "DescriptionStyleModel",
     "state": {
      "_model_module": "@jupyter-widgets/controls",
      "_model_module_version": "1.5.0",
      "_model_name": "DescriptionStyleModel",
      "_view_count": null,
      "_view_module": "@jupyter-widgets/base",
      "_view_module_version": "1.2.0",
      "_view_name": "StyleView",
      "description_width": ""
     }
    },
    "ea13ced050824f6784292fe4a9aaf689": {
     "model_module": "@jupyter-widgets/base",
     "model_module_version": "1.2.0",
     "model_name": "LayoutModel",
     "state": {
      "_model_module": "@jupyter-widgets/base",
      "_model_module_version": "1.2.0",
      "_model_name": "LayoutModel",
      "_view_count": null,
      "_view_module": "@jupyter-widgets/base",
      "_view_module_version": "1.2.0",
      "_view_name": "LayoutView",
      "align_content": null,
      "align_items": null,
      "align_self": null,
      "border": null,
      "bottom": null,
      "display": null,
      "flex": null,
      "flex_flow": null,
      "grid_area": null,
      "grid_auto_columns": null,
      "grid_auto_flow": null,
      "grid_auto_rows": null,
      "grid_column": null,
      "grid_gap": null,
      "grid_row": null,
      "grid_template_areas": null,
      "grid_template_columns": null,
      "grid_template_rows": null,
      "height": null,
      "justify_content": null,
      "justify_items": null,
      "left": null,
      "margin": null,
      "max_height": null,
      "max_width": null,
      "min_height": null,
      "min_width": null,
      "object_fit": null,
      "object_position": null,
      "order": null,
      "overflow": null,
      "overflow_x": null,
      "overflow_y": null,
      "padding": null,
      "right": null,
      "top": null,
      "visibility": null,
      "width": null
     }
    },
    "f387f1d9959f46658c6068c02a9bf4e5": {
     "model_module": "@jupyter-widgets/controls",
     "model_module_version": "1.5.0",
     "model_name": "HBoxModel",
     "state": {
      "_dom_classes": [],
      "_model_module": "@jupyter-widgets/controls",
      "_model_module_version": "1.5.0",
      "_model_name": "HBoxModel",
      "_view_count": null,
      "_view_module": "@jupyter-widgets/controls",
      "_view_module_version": "1.5.0",
      "_view_name": "HBoxView",
      "box_style": "",
      "children": [
       "IPY_MODEL_5f04f2c6f13c48d2aa918479bcc82047",
       "IPY_MODEL_b66414f320e543958658d316b4bcd704",
       "IPY_MODEL_9705587dd60844c186eaa467ad9667de"
      ],
      "layout": "IPY_MODEL_ea13ced050824f6784292fe4a9aaf689"
     }
    }
   }
  }
 },
 "nbformat": 4,
 "nbformat_minor": 1
}
