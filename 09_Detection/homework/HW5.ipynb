{
 "cells": [
  {
   "cell_type": "markdown",
   "id": "e49564f6",
   "metadata": {},
   "source": [
    "# Состав команды\n",
    "### Ячменьков Алексей:\n",
    "#### \n",
    "#####\n",
    "### Баранов Владислав:\n",
    "#### \n",
    "#####\n",
    "### Аллабердин Богдан:\n",
    "#### "
   ]
  },
  {
   "cell_type": "code",
   "execution_count": 4,
   "id": "0184e659",
   "metadata": {},
   "outputs": [],
   "source": [
    "import os\n",
    "from pathlib import Path\n",
    "\n",
    "import cv2\n",
    "import wandb\n",
    "import numpy as np\n",
    "import matplotlib.pyplot as plt\n",
    "from tqdm.notebook import tnrange\n",
    "\n",
    "import torch\n",
    "import torch.nn as nn\n",
    "import torchvision\n",
    "from torchvision import transforms\n",
    "import torch.nn.functional as F\n",
    "import torch.optim as optim\n",
    "from torch.autograd import Variable\n",
    "from PIL import Image\n",
    "\n",
    "from facenet_pytorch import MTCNN, InceptionResnetV1"
   ]
  },
  {
   "cell_type": "markdown",
   "id": "a724a4ac",
   "metadata": {},
   "source": [
    "# create train test"
   ]
  },
  {
   "cell_type": "code",
   "execution_count": 3,
   "id": "7ad3c317",
   "metadata": {},
   "outputs": [],
   "source": [
    "################################"
   ]
  },
  {
   "cell_type": "code",
   "execution_count": null,
   "id": "69469497",
   "metadata": {},
   "outputs": [],
   "source": [
    "def extract_sample(n_way, n_support, n_query, datax, datay):\n",
    "    transorm = transforms.Compose([\n",
    "        np.float32,\n",
    "        transforms.ToTensor(),\n",
    "        fixed_image_standardization\n",
    "    ])\n",
    "    \n",
    "    sample = []\n",
    "    K = np.random.choice(np.unique(datay), n_way, replace=False)\n",
    "    for cls in K:\n",
    "        datax_cls = datax[datay == cls]\n",
    "        perm = np.random.permutation(datax_cls)\n",
    "        sample_cls = perm[:(n_support + n_query)]\n",
    "        sample.append([transform(Image.open(fname)) for fname in sample_cls])\n",
    "        #sample.append([cv2.imread(fname) for fname in sample_cls])\n",
    "\n",
    "    sample = np.array(sample)\n",
    "    sample = torch.from_numpy(sample).float()\n",
    "    sample = sample.permute(0, 1, 4, 2, 3)\n",
    "    return ({\n",
    "        'images': sample,\n",
    "        'targets': K,\n",
    "        'n_way': n_way,\n",
    "        'n_support': n_support,\n",
    "        'n_query': n_query\n",
    "    })"
   ]
  },
  {
   "cell_type": "code",
   "execution_count": null,
   "id": "eb14ddc8",
   "metadata": {},
   "outputs": [],
   "source": [
    "def display_sample(sample):\n",
    "    sample_4D = sample.view(sample.shape[0] * sample.shape[1], *sample.shape[2:])\n",
    "    out = torchvision.utils.make_grid(sample_4D, nrow=sample.shape[1])\n",
    "\n",
    "    plt.figure(figsize=(16, 7))\n",
    "    plt.imshow(out.permute(1, 2, 0))"
   ]
  },
  {
   "cell_type": "code",
   "execution_count": null,
   "id": "b17f1c51",
   "metadata": {},
   "outputs": [],
   "source": [
    "sample_example = extract_sample(8, 5, 5, trainx, trainy)\n",
    "display_sample(sample_example['images'])\n",
    "print(sample_example['targets'])"
   ]
  },
  {
   "cell_type": "code",
   "execution_count": null,
   "id": "d83a6a96",
   "metadata": {},
   "outputs": [],
   "source": [
    "sample_example['images'].shape"
   ]
  },
  {
   "cell_type": "markdown",
   "id": "77f1c32b",
   "metadata": {
    "id": "HbakTT_nFubI"
   },
   "source": [
    "## Build model"
   ]
  },
  {
   "cell_type": "code",
   "execution_count": null,
   "id": "4b460f5a",
   "metadata": {},
   "outputs": [],
   "source": [
    "class ProtoNet(nn.Module):\n",
    "    def __init__(self, device='cuda'):\n",
    "        super(ProtoNet, self).__init__()\n",
    "        self.device = device\n",
    "        self.encoder = InceptionResnetV1(pretrained='vggface2').to(self.device)\n",
    "\n",
    "    def set_forward_loss(self, sample):\n",
    "        sample_images = sample['images']\n",
    "        n_way = sample['n_way']\n",
    "        n_support = sample['n_support']\n",
    "        n_query = sample['n_query']\n",
    "\n",
    "        sample_images = sample_images.to(self.device)\n",
    "        sample_images = sample_images.view(n_way * (n_support + n_query), *sample_images.shape[-3:])\n",
    "\n",
    "        # img2vec results\n",
    "        vectors = self.encoder(sample_images).view(n_way, (n_support + n_query), -1)\n",
    "\n",
    "        # центры тяжести класстеров классов\n",
    "        prototypes = vectors[:, :n_support].mean(1)\n",
    "\n",
    "        # ищем расстояния от каждого изображения из query до каждого центра тяжести\n",
    "        queries = vectors[:, n_support:].contiguous().view(-1, vectors.shape[-1])\n",
    "        query_dists = list()\n",
    "        for query in queries:\n",
    "            prototype_dists = torch.stack([torch.sqrt(torch.pow(query - prototype, 2).sum()) for prototype in prototypes])\n",
    "            query_dists.append(prototype_dists)\n",
    "        query_dists = torch.stack(query_dists)\n",
    "\n",
    "        probabilities = F.log_softmax(-query_dists, dim=1).view(n_way, n_query, -1)\n",
    "\n",
    "        _, y_hat = probabilities.max(2)\n",
    "\n",
    "        losses = list()\n",
    "        n_true_positive = 0\n",
    "        for way in range(n_way):\n",
    "            for query in range(n_query):\n",
    "                losses.append(-probabilities[way][query][way])\n",
    "                if y_hat[way][query] == way:\n",
    "                    n_true_positive += 1\n",
    "        loss_val = torch.stack(losses).mean()\n",
    "        acc = n_true_positive / (n_way * n_query)\n",
    "\n",
    "        return loss_val, {\n",
    "            'loss': loss_val.item(),\n",
    "            'acc': acc,\n",
    "            'y_hat': y_hat\n",
    "            }"
   ]
  },
  {
   "cell_type": "markdown",
   "id": "c612fa50",
   "metadata": {
    "id": "0Fke38yY6pI9",
    "tags": []
   },
   "source": [
    "## Train"
   ]
  },
  {
   "cell_type": "code",
   "execution_count": null,
   "id": "e16ff09d",
   "metadata": {},
   "outputs": [],
   "source": [
    "def train(model, optimizer, train_x, train_y, n_way, n_support, n_query, max_epoch, epoch_size):\n",
    "    if wandb.run is not None:\n",
    "        wandb.watch(model)\n",
    "    scheduler = optim.lr_scheduler.StepLR(optimizer, 1, gamma=0.5, last_epoch=-1)\n",
    "    epoch = 0 \n",
    "    stop = False \n",
    "\n",
    "    train_losses = []\n",
    "    train_acc = []\n",
    "    while epoch < max_epoch and not stop:\n",
    "        running_loss = 0.0\n",
    "        running_acc = 0.0\n",
    "\n",
    "        for episode in tnrange(epoch_size, desc=\"Epoch {:d} train\".format(epoch + 1)):\n",
    "            sample = extract_sample(n_way, n_support, n_query, train_x, train_y)\n",
    "            optimizer.zero_grad()\n",
    "            loss, output = model.set_forward_loss(sample)\n",
    "            running_loss += output['loss']\n",
    "            running_acc += output['acc']\n",
    "            loss.backward()\n",
    "            optimizer.step()\n",
    "\n",
    "        epoch_loss = running_loss / epoch_size\n",
    "        epoch_acc = running_acc / epoch_size\n",
    "        \n",
    "        train_losses.append(epoch_loss)\n",
    "        train_acc.append(epoch_acc)\n",
    "        \n",
    "        if wandb.run is not None:\n",
    "            wandb.log({'Epoch': epoch + 1, 'Loss': round(epoch_loss, 4), 'Acc': round(epoch_acc, 4)})\n",
    "        print('Epoch {:d} -- Loss: {:.4f} Acc: {:.4f}'.format(epoch+1,epoch_loss, epoch_acc))\n",
    "        epoch += 1\n",
    "        scheduler.step()\n",
    "    torch.save(model.state_dict(), \"new_model.pt\")\n",
    "    return train_losses, train_acc"
   ]
  },
  {
   "cell_type": "code",
   "execution_count": null,
   "id": "3d1a3a59",
   "metadata": {},
   "outputs": [],
   "source": [
    "should_log = False\n",
    "\n",
    "model = ProtoNet(device='cuda')\n",
    "\n",
    "optimizer = optim.Adam(model.parameters(), lr=0.001)\n",
    "\n",
    "n_way = 20\n",
    "n_support = 5\n",
    "n_query = 5\n",
    "\n",
    "train_x = trainx\n",
    "train_y = trainy\n",
    "\n",
    "max_epoch = 3\n",
    "epoch_size = 1000"
   ]
  },
  {
   "cell_type": "code",
   "execution_count": null,
   "id": "c3bb8485",
   "metadata": {},
   "outputs": [],
   "source": [
    "from show_train_res import plot_losses"
   ]
  },
  {
   "cell_type": "code",
   "execution_count": null,
   "id": "7172e9cd",
   "metadata": {},
   "outputs": [],
   "source": [
    "%%time\n",
    "if should_log:\n",
    "    wandb.init(project='homework', name='baseline')\n",
    "loss, acc = train(model, optimizer, train_x, train_y, n_way, n_support, n_query, max_epoch, epoch_size)"
   ]
  },
  {
   "cell_type": "markdown",
   "id": "0c1446bc",
   "metadata": {},
   "source": [
    "## Графики обучения ProtoNet"
   ]
  },
  {
   "cell_type": "code",
   "execution_count": null,
   "id": "6ef8ab12",
   "metadata": {},
   "outputs": [],
   "source": [
    "plot_losses(np.array([loss, acc]), np.array([[],[]]), 'loss', 'acc')"
   ]
  },
  {
   "cell_type": "markdown",
   "id": "a0f5cb86",
   "metadata": {
    "id": "pJu50gOb8WxU"
   },
   "source": [
    "## Test"
   ]
  },
  {
   "cell_type": "code",
   "execution_count": null,
   "id": "a5f3751c",
   "metadata": {},
   "outputs": [],
   "source": [
    "def test(model, test_x, test_y, n_way, n_support, n_query, test_episode):\n",
    "    if wandb.run is not None:\n",
    "        wandb.watch(model)\n",
    "    running_loss = 0.0\n",
    "    running_acc = 0.0\n",
    "    for episode in tnrange(test_episode):\n",
    "        sample = extract_sample(n_way, n_support, n_query, test_x, test_y)\n",
    "        loss, output = model.set_forward_loss(sample)\n",
    "        running_loss += output['loss']\n",
    "        running_acc += output['acc']\n",
    "\n",
    "    avg_loss = running_loss / test_episode\n",
    "    avg_acc = running_acc / test_episode\n",
    "    if wandb.run is not None:\n",
    "        wandb.log({'n_way': n_way, 'k_shot': n_support})\n",
    "        wandb.log({'Test loss': round(avg_loss, 4), 'Test acc': round(avg_acc, 4), 'n_way': n_way, 'k_shot': n_support})\n",
    "    return [avg_loss, avg_acc]"
   ]
  },
  {
   "cell_type": "code",
   "execution_count": null,
   "id": "6ac4844e",
   "metadata": {},
   "outputs": [],
   "source": [
    "n_way = 5\n",
    "n_support = 1\n",
    "n_query = 5\n",
    "\n",
    "test_x = testx\n",
    "test_y = testy\n",
    "\n",
    "test_episode = 1000\n",
    "\n",
    "model = ProtoNet(device='cuda')\n",
    "model.load_state_dict(torch.load('./new_model.pt'))"
   ]
  },
  {
   "cell_type": "code",
   "execution_count": null,
   "id": "25344536",
   "metadata": {},
   "outputs": [],
   "source": [
    "print('test: 5-way 1-shot')\n",
    "output = test(model, test_x, test_y, 5, 1, n_query, test_episode)\n",
    "print(f'loss: {output[0]}, acc: {output[1]}')\n",
    "if wandb.run is not None:\n",
    "    wandb.finish()"
   ]
  },
  {
   "cell_type": "markdown",
   "id": "3bb4be8a",
   "metadata": {},
   "source": [
    "## Prediction on our images"
   ]
  },
  {
   "cell_type": "code",
   "execution_count": null,
   "id": "f515b677",
   "metadata": {},
   "outputs": [],
   "source": [
    "def predict(model, sample):\n",
    "    with torch.inference_mode():\n",
    "        output = model.set_forward_loss(sample)[1]['y_hat'].to('cpu').detach().numpy()\n",
    "        preds = sample['targets'][output]\n",
    "        print('predict : target')\n",
    "        for pred, target in zip(preds, sample['targets']):\n",
    "            print(f'{pred[0]} : {target}')"
   ]
  },
  {
   "cell_type": "code",
   "execution_count": null,
   "id": "672c60a7",
   "metadata": {},
   "outputs": [],
   "source": []
  }
 ],
 "metadata": {
  "kernelspec": {
   "display_name": "Python 3 (ipykernel)",
   "language": "python",
   "name": "python3"
  },
  "language_info": {
   "codemirror_mode": {
    "name": "ipython",
    "version": 3
   },
   "file_extension": ".py",
   "mimetype": "text/x-python",
   "name": "python",
   "nbconvert_exporter": "python",
   "pygments_lexer": "ipython3",
   "version": "3.10.6"
  }
 },
 "nbformat": 4,
 "nbformat_minor": 5
}
